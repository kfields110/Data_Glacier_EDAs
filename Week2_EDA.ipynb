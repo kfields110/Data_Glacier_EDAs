{
 "cells": [
  {
   "cell_type": "markdown",
   "id": "f34dd95a-b0e3-423f-8ca9-69e72a9adceb",
   "metadata": {},
   "source": [
    "# Week 2 Exploratory Data Analysis\n",
    "## Report For XYZ\n",
    "\n",
    "Hypothesis Report Located at bottom."
   ]
  },
  {
   "cell_type": "code",
   "execution_count": 1,
   "id": "edcb2333-2efc-4fec-932b-1a0e236e21bb",
   "metadata": {},
   "outputs": [],
   "source": [
    "import pandas as pd\n",
    "import numpy as np\n",
    "import matplotlib.pyplot as plt\n",
    "import seaborn as sns\n",
    "sns.set()"
   ]
  },
  {
   "cell_type": "markdown",
   "id": "279a19ce-8c77-42f7-877e-a63e43b6e158",
   "metadata": {},
   "source": [
    "# Importing and Exploring the DataSet"
   ]
  },
  {
   "cell_type": "code",
   "execution_count": 2,
   "id": "1c44ab78-7b87-40d7-97d8-41a16c9b9ee3",
   "metadata": {},
   "outputs": [],
   "source": [
    "cab_data = pd.read_csv('DataInternship/Week2_Cab_EDA/DataSets-main/Cab_Data.csv')\n",
    "city_data = pd.read_csv('DataInternship/Week2_Cab_EDA/DataSets-main/City.csv')\n",
    "customer_data = pd.read_csv('DataInternship/Week2_Cab_EDA/DataSets-main/Customer_ID.csv')\n",
    "trans_data = pd.read_csv('DataInternship/Week2_Cab_EDA/DataSets-main/Transaction_ID.csv')"
   ]
  },
  {
   "cell_type": "markdown",
   "id": "7c0c7322-c204-49b0-8315-0c408b51a52b",
   "metadata": {},
   "source": [
    "## Explore Cab Data"
   ]
  },
  {
   "cell_type": "code",
   "execution_count": 5,
   "id": "b460a74c-ac19-4ace-9e51-4c205a27a336",
   "metadata": {},
   "outputs": [
    {
     "data": {
      "text/html": [
       "<div>\n",
       "<style scoped>\n",
       "    .dataframe tbody tr th:only-of-type {\n",
       "        vertical-align: middle;\n",
       "    }\n",
       "\n",
       "    .dataframe tbody tr th {\n",
       "        vertical-align: top;\n",
       "    }\n",
       "\n",
       "    .dataframe thead th {\n",
       "        text-align: right;\n",
       "    }\n",
       "</style>\n",
       "<table border=\"1\" class=\"dataframe\">\n",
       "  <thead>\n",
       "    <tr style=\"text-align: right;\">\n",
       "      <th></th>\n",
       "      <th>Transaction ID</th>\n",
       "      <th>Date of Travel</th>\n",
       "      <th>KM Travelled</th>\n",
       "      <th>Price Charged</th>\n",
       "      <th>Cost of Trip</th>\n",
       "    </tr>\n",
       "  </thead>\n",
       "  <tbody>\n",
       "    <tr>\n",
       "      <th>count</th>\n",
       "      <td>3.593920e+05</td>\n",
       "      <td>359392.000000</td>\n",
       "      <td>359392.000000</td>\n",
       "      <td>359392.000000</td>\n",
       "      <td>359392.000000</td>\n",
       "    </tr>\n",
       "    <tr>\n",
       "      <th>mean</th>\n",
       "      <td>1.022076e+07</td>\n",
       "      <td>42964.067998</td>\n",
       "      <td>22.567254</td>\n",
       "      <td>423.443311</td>\n",
       "      <td>286.190113</td>\n",
       "    </tr>\n",
       "    <tr>\n",
       "      <th>std</th>\n",
       "      <td>1.268058e+05</td>\n",
       "      <td>307.467197</td>\n",
       "      <td>12.233526</td>\n",
       "      <td>274.378911</td>\n",
       "      <td>157.993661</td>\n",
       "    </tr>\n",
       "    <tr>\n",
       "      <th>min</th>\n",
       "      <td>1.000001e+07</td>\n",
       "      <td>42371.000000</td>\n",
       "      <td>1.900000</td>\n",
       "      <td>15.600000</td>\n",
       "      <td>19.000000</td>\n",
       "    </tr>\n",
       "    <tr>\n",
       "      <th>25%</th>\n",
       "      <td>1.011081e+07</td>\n",
       "      <td>42697.000000</td>\n",
       "      <td>12.000000</td>\n",
       "      <td>206.437500</td>\n",
       "      <td>151.200000</td>\n",
       "    </tr>\n",
       "    <tr>\n",
       "      <th>50%</th>\n",
       "      <td>1.022104e+07</td>\n",
       "      <td>42988.000000</td>\n",
       "      <td>22.440000</td>\n",
       "      <td>386.360000</td>\n",
       "      <td>282.480000</td>\n",
       "    </tr>\n",
       "    <tr>\n",
       "      <th>75%</th>\n",
       "      <td>1.033094e+07</td>\n",
       "      <td>43232.000000</td>\n",
       "      <td>32.960000</td>\n",
       "      <td>583.660000</td>\n",
       "      <td>413.683200</td>\n",
       "    </tr>\n",
       "    <tr>\n",
       "      <th>max</th>\n",
       "      <td>1.044011e+07</td>\n",
       "      <td>43465.000000</td>\n",
       "      <td>48.000000</td>\n",
       "      <td>2048.030000</td>\n",
       "      <td>691.200000</td>\n",
       "    </tr>\n",
       "  </tbody>\n",
       "</table>\n",
       "</div>"
      ],
      "text/plain": [
       "       Transaction ID  Date of Travel   KM Travelled  Price Charged  \\\n",
       "count    3.593920e+05   359392.000000  359392.000000  359392.000000   \n",
       "mean     1.022076e+07    42964.067998      22.567254     423.443311   \n",
       "std      1.268058e+05      307.467197      12.233526     274.378911   \n",
       "min      1.000001e+07    42371.000000       1.900000      15.600000   \n",
       "25%      1.011081e+07    42697.000000      12.000000     206.437500   \n",
       "50%      1.022104e+07    42988.000000      22.440000     386.360000   \n",
       "75%      1.033094e+07    43232.000000      32.960000     583.660000   \n",
       "max      1.044011e+07    43465.000000      48.000000    2048.030000   \n",
       "\n",
       "        Cost of Trip  \n",
       "count  359392.000000  \n",
       "mean      286.190113  \n",
       "std       157.993661  \n",
       "min        19.000000  \n",
       "25%       151.200000  \n",
       "50%       282.480000  \n",
       "75%       413.683200  \n",
       "max       691.200000  "
      ]
     },
     "execution_count": 5,
     "metadata": {},
     "output_type": "execute_result"
    }
   ],
   "source": [
    "cab_data.describe()"
   ]
  },
  {
   "cell_type": "code",
   "execution_count": 6,
   "id": "bf4ab52b-30a7-4799-bac7-477cfd8a29dc",
   "metadata": {},
   "outputs": [
    {
     "data": {
      "text/plain": [
       "(359392, 7)"
      ]
     },
     "execution_count": 6,
     "metadata": {},
     "output_type": "execute_result"
    }
   ],
   "source": [
    "cab_data.shape"
   ]
  },
  {
   "cell_type": "code",
   "execution_count": 7,
   "id": "573afe5e-64c6-4ddd-90db-eece9300f919",
   "metadata": {},
   "outputs": [
    {
     "data": {
      "text/html": [
       "<div>\n",
       "<style scoped>\n",
       "    .dataframe tbody tr th:only-of-type {\n",
       "        vertical-align: middle;\n",
       "    }\n",
       "\n",
       "    .dataframe tbody tr th {\n",
       "        vertical-align: top;\n",
       "    }\n",
       "\n",
       "    .dataframe thead th {\n",
       "        text-align: right;\n",
       "    }\n",
       "</style>\n",
       "<table border=\"1\" class=\"dataframe\">\n",
       "  <thead>\n",
       "    <tr style=\"text-align: right;\">\n",
       "      <th></th>\n",
       "      <th>Transaction ID</th>\n",
       "      <th>Date of Travel</th>\n",
       "      <th>Company</th>\n",
       "      <th>City</th>\n",
       "      <th>KM Travelled</th>\n",
       "      <th>Price Charged</th>\n",
       "      <th>Cost of Trip</th>\n",
       "    </tr>\n",
       "  </thead>\n",
       "  <tbody>\n",
       "    <tr>\n",
       "      <th>0</th>\n",
       "      <td>10000011</td>\n",
       "      <td>42377</td>\n",
       "      <td>Pink Cab</td>\n",
       "      <td>ATLANTA GA</td>\n",
       "      <td>30.45</td>\n",
       "      <td>370.95</td>\n",
       "      <td>313.635</td>\n",
       "    </tr>\n",
       "    <tr>\n",
       "      <th>1</th>\n",
       "      <td>10000012</td>\n",
       "      <td>42375</td>\n",
       "      <td>Pink Cab</td>\n",
       "      <td>ATLANTA GA</td>\n",
       "      <td>28.62</td>\n",
       "      <td>358.52</td>\n",
       "      <td>334.854</td>\n",
       "    </tr>\n",
       "    <tr>\n",
       "      <th>2</th>\n",
       "      <td>10000013</td>\n",
       "      <td>42371</td>\n",
       "      <td>Pink Cab</td>\n",
       "      <td>ATLANTA GA</td>\n",
       "      <td>9.04</td>\n",
       "      <td>125.20</td>\n",
       "      <td>97.632</td>\n",
       "    </tr>\n",
       "    <tr>\n",
       "      <th>3</th>\n",
       "      <td>10000014</td>\n",
       "      <td>42376</td>\n",
       "      <td>Pink Cab</td>\n",
       "      <td>ATLANTA GA</td>\n",
       "      <td>33.17</td>\n",
       "      <td>377.40</td>\n",
       "      <td>351.602</td>\n",
       "    </tr>\n",
       "    <tr>\n",
       "      <th>4</th>\n",
       "      <td>10000015</td>\n",
       "      <td>42372</td>\n",
       "      <td>Pink Cab</td>\n",
       "      <td>ATLANTA GA</td>\n",
       "      <td>8.73</td>\n",
       "      <td>114.62</td>\n",
       "      <td>97.776</td>\n",
       "    </tr>\n",
       "  </tbody>\n",
       "</table>\n",
       "</div>"
      ],
      "text/plain": [
       "   Transaction ID  Date of Travel   Company        City  KM Travelled  \\\n",
       "0        10000011           42377  Pink Cab  ATLANTA GA         30.45   \n",
       "1        10000012           42375  Pink Cab  ATLANTA GA         28.62   \n",
       "2        10000013           42371  Pink Cab  ATLANTA GA          9.04   \n",
       "3        10000014           42376  Pink Cab  ATLANTA GA         33.17   \n",
       "4        10000015           42372  Pink Cab  ATLANTA GA          8.73   \n",
       "\n",
       "   Price Charged  Cost of Trip  \n",
       "0         370.95       313.635  \n",
       "1         358.52       334.854  \n",
       "2         125.20        97.632  \n",
       "3         377.40       351.602  \n",
       "4         114.62        97.776  "
      ]
     },
     "execution_count": 7,
     "metadata": {},
     "output_type": "execute_result"
    }
   ],
   "source": [
    "cab_data.head()"
   ]
  },
  {
   "cell_type": "markdown",
   "id": "97baf250",
   "metadata": {},
   "source": [
    "### Dealing with missing values"
   ]
  },
  {
   "cell_type": "code",
   "execution_count": 8,
   "id": "411dd9e1",
   "metadata": {},
   "outputs": [
    {
     "data": {
      "text/plain": [
       "0"
      ]
     },
     "execution_count": 8,
     "metadata": {},
     "output_type": "execute_result"
    }
   ],
   "source": [
    "cab_data.isnull().sum().sum()"
   ]
  },
  {
   "cell_type": "markdown",
   "id": "427e7414",
   "metadata": {},
   "source": [
    "### Visualize data"
   ]
  },
  {
   "cell_type": "code",
   "execution_count": 9,
   "id": "82f98d4a",
   "metadata": {},
   "outputs": [
    {
     "name": "stderr",
     "output_type": "stream",
     "text": [
      "E:\\anaconda\\lib\\site-packages\\seaborn\\distributions.py:2619: FutureWarning: `distplot` is a deprecated function and will be removed in a future version. Please adapt your code to use either `displot` (a figure-level function with similar flexibility) or `histplot` (an axes-level function for histograms).\n",
      "  warnings.warn(msg, FutureWarning)\n"
     ]
    },
    {
     "data": {
      "text/plain": [
       "<AxesSubplot:xlabel='Price Charged', ylabel='Density'>"
      ]
     },
     "execution_count": 9,
     "metadata": {},
     "output_type": "execute_result"
    },
    {
     "data": {
      "image/png": "[encoded data removed]",
      "text/plain": [
       "<Figure size 432x288 with 1 Axes>"
      ]
     },
     "metadata": {},
     "output_type": "display_data"
    }
   ],
   "source": [
    "#histogram of price \n",
    "sns.distplot(cab_data['Price Charged'])"
   ]
  },
  {
   "cell_type": "markdown",
   "id": "faf5767b",
   "metadata": {},
   "source": [
    "The distribution is moderately right skewed, more than half of all trips are less than 500"
   ]
  },
  {
   "cell_type": "code",
   "execution_count": 10,
   "id": "d050a699",
   "metadata": {},
   "outputs": [
    {
     "name": "stdout",
     "output_type": "stream",
     "text": [
      "Skewness: 0.873761\n"
     ]
    }
   ],
   "source": [
    "print(\"Skewness: %f\" % cab_data['Price Charged'].skew())"
   ]
  },
  {
   "cell_type": "code",
   "execution_count": 12,
   "id": "d86a2573",
   "metadata": {},
   "outputs": [
    {
     "name": "stderr",
     "output_type": "stream",
     "text": [
      "E:\\anaconda\\lib\\site-packages\\seaborn\\distributions.py:2619: FutureWarning: `distplot` is a deprecated function and will be removed in a future version. Please adapt your code to use either `displot` (a figure-level function with similar flexibility) or `histplot` (an axes-level function for histograms).\n",
      "  warnings.warn(msg, FutureWarning)\n"
     ]
    },
    {
     "data": {
      "text/plain": [
       "<AxesSubplot:xlabel='KM Travelled', ylabel='Density'>"
      ]
     },
     "execution_count": 12,
     "metadata": {},
     "output_type": "execute_result"
    },
    {
     "data": {
      "image/png": "[encoded data removed]",
      "text/plain": [
       "<Figure size 432x288 with 1 Axes>"
      ]
     },
     "metadata": {},
     "output_type": "display_data"
    }
   ],
   "source": [
    "#histogram of distance\n",
    "sns.distplot(cab_data['KM Travelled'])"
   ]
  },
  {
   "cell_type": "code",
   "execution_count": 16,
   "id": "e0e60df0",
   "metadata": {},
   "outputs": [
    {
     "data": {
      "text/plain": [
       "array(['Pink Cab', 'Yellow Cab'], dtype=object)"
      ]
     },
     "execution_count": 16,
     "metadata": {},
     "output_type": "execute_result"
    }
   ],
   "source": [
    "#Types of companies\n",
    "cab_data.Company.unique()"
   ]
  },
  {
   "cell_type": "code",
   "execution_count": 3,
   "id": "5a4eb3d1",
   "metadata": {},
   "outputs": [],
   "source": [
    "#Avg Price Charged for each company\n",
    "pink_cab_data = cab_data.loc[cab_data['Company'] == 'Pink Cab']\n",
    "yellow_cab_data = cab_data.loc[cab_data['Company'] == 'Yellow Cab']"
   ]
  },
  {
   "cell_type": "code",
   "execution_count": 21,
   "id": "2848a53b",
   "metadata": {},
   "outputs": [
    {
     "data": {
      "text/html": [
       "<div>\n",
       "<style scoped>\n",
       "    .dataframe tbody tr th:only-of-type {\n",
       "        vertical-align: middle;\n",
       "    }\n",
       "\n",
       "    .dataframe tbody tr th {\n",
       "        vertical-align: top;\n",
       "    }\n",
       "\n",
       "    .dataframe thead th {\n",
       "        text-align: right;\n",
       "    }\n",
       "</style>\n",
       "<table border=\"1\" class=\"dataframe\">\n",
       "  <thead>\n",
       "    <tr style=\"text-align: right;\">\n",
       "      <th></th>\n",
       "      <th>Transaction ID</th>\n",
       "      <th>Date of Travel</th>\n",
       "      <th>KM Travelled</th>\n",
       "      <th>Price Charged</th>\n",
       "      <th>Cost of Trip</th>\n",
       "    </tr>\n",
       "  </thead>\n",
       "  <tbody>\n",
       "    <tr>\n",
       "      <th>count</th>\n",
       "      <td>8.471100e+04</td>\n",
       "      <td>84711.000000</td>\n",
       "      <td>84711.000000</td>\n",
       "      <td>84711.000000</td>\n",
       "      <td>84711.000000</td>\n",
       "    </tr>\n",
       "    <tr>\n",
       "      <th>mean</th>\n",
       "      <td>1.022394e+07</td>\n",
       "      <td>42975.183435</td>\n",
       "      <td>22.559917</td>\n",
       "      <td>310.800856</td>\n",
       "      <td>248.148682</td>\n",
       "    </tr>\n",
       "    <tr>\n",
       "      <th>std</th>\n",
       "      <td>1.261782e+05</td>\n",
       "      <td>305.502235</td>\n",
       "      <td>12.231092</td>\n",
       "      <td>181.995661</td>\n",
       "      <td>135.403345</td>\n",
       "    </tr>\n",
       "    <tr>\n",
       "      <th>min</th>\n",
       "      <td>1.000001e+07</td>\n",
       "      <td>42371.000000</td>\n",
       "      <td>1.900000</td>\n",
       "      <td>15.600000</td>\n",
       "      <td>19.000000</td>\n",
       "    </tr>\n",
       "    <tr>\n",
       "      <th>25%</th>\n",
       "      <td>1.011014e+07</td>\n",
       "      <td>42700.000000</td>\n",
       "      <td>12.000000</td>\n",
       "      <td>159.970000</td>\n",
       "      <td>131.868000</td>\n",
       "    </tr>\n",
       "    <tr>\n",
       "      <th>50%</th>\n",
       "      <td>1.022590e+07</td>\n",
       "      <td>43000.000000</td>\n",
       "      <td>22.440000</td>\n",
       "      <td>298.060000</td>\n",
       "      <td>246.330000</td>\n",
       "    </tr>\n",
       "    <tr>\n",
       "      <th>75%</th>\n",
       "      <td>1.033642e+07</td>\n",
       "      <td>43252.000000</td>\n",
       "      <td>32.960000</td>\n",
       "      <td>441.505000</td>\n",
       "      <td>360.180000</td>\n",
       "    </tr>\n",
       "    <tr>\n",
       "      <th>max</th>\n",
       "      <td>1.043762e+07</td>\n",
       "      <td>43465.000000</td>\n",
       "      <td>48.000000</td>\n",
       "      <td>1623.480000</td>\n",
       "      <td>576.000000</td>\n",
       "    </tr>\n",
       "  </tbody>\n",
       "</table>\n",
       "</div>"
      ],
      "text/plain": [
       "       Transaction ID  Date of Travel  KM Travelled  Price Charged  \\\n",
       "count    8.471100e+04    84711.000000  84711.000000   84711.000000   \n",
       "mean     1.022394e+07    42975.183435     22.559917     310.800856   \n",
       "std      1.261782e+05      305.502235     12.231092     181.995661   \n",
       "min      1.000001e+07    42371.000000      1.900000      15.600000   \n",
       "25%      1.011014e+07    42700.000000     12.000000     159.970000   \n",
       "50%      1.022590e+07    43000.000000     22.440000     298.060000   \n",
       "75%      1.033642e+07    43252.000000     32.960000     441.505000   \n",
       "max      1.043762e+07    43465.000000     48.000000    1623.480000   \n",
       "\n",
       "       Cost of Trip  \n",
       "count  84711.000000  \n",
       "mean     248.148682  \n",
       "std      135.403345  \n",
       "min       19.000000  \n",
       "25%      131.868000  \n",
       "50%      246.330000  \n",
       "75%      360.180000  \n",
       "max      576.000000  "
      ]
     },
     "execution_count": 21,
     "metadata": {},
     "output_type": "execute_result"
    }
   ],
   "source": [
    "pink_cab_data.describe()"
   ]
  },
  {
   "cell_type": "code",
   "execution_count": 20,
   "id": "ecdf3b49",
   "metadata": {},
   "outputs": [
    {
     "data": {
      "text/html": [
       "<div>\n",
       "<style scoped>\n",
       "    .dataframe tbody tr th:only-of-type {\n",
       "        vertical-align: middle;\n",
       "    }\n",
       "\n",
       "    .dataframe tbody tr th {\n",
       "        vertical-align: top;\n",
       "    }\n",
       "\n",
       "    .dataframe thead th {\n",
       "        text-align: right;\n",
       "    }\n",
       "</style>\n",
       "<table border=\"1\" class=\"dataframe\">\n",
       "  <thead>\n",
       "    <tr style=\"text-align: right;\">\n",
       "      <th></th>\n",
       "      <th>Transaction ID</th>\n",
       "      <th>Date of Travel</th>\n",
       "      <th>KM Travelled</th>\n",
       "      <th>Price Charged</th>\n",
       "      <th>Cost of Trip</th>\n",
       "    </tr>\n",
       "  </thead>\n",
       "  <tbody>\n",
       "    <tr>\n",
       "      <th>count</th>\n",
       "      <td>2.746810e+05</td>\n",
       "      <td>274681.000000</td>\n",
       "      <td>274681.000000</td>\n",
       "      <td>274681.000000</td>\n",
       "      <td>274681.000000</td>\n",
       "    </tr>\n",
       "    <tr>\n",
       "      <th>mean</th>\n",
       "      <td>1.021978e+07</td>\n",
       "      <td>42960.640022</td>\n",
       "      <td>22.569517</td>\n",
       "      <td>458.181990</td>\n",
       "      <td>297.922004</td>\n",
       "    </tr>\n",
       "    <tr>\n",
       "      <th>std</th>\n",
       "      <td>1.269829e+05</td>\n",
       "      <td>307.990287</td>\n",
       "      <td>12.234298</td>\n",
       "      <td>288.386166</td>\n",
       "      <td>162.548986</td>\n",
       "    </tr>\n",
       "    <tr>\n",
       "      <th>min</th>\n",
       "      <td>1.000038e+07</td>\n",
       "      <td>42371.000000</td>\n",
       "      <td>1.900000</td>\n",
       "      <td>20.730000</td>\n",
       "      <td>22.800000</td>\n",
       "    </tr>\n",
       "    <tr>\n",
       "      <th>25%</th>\n",
       "      <td>1.011084e+07</td>\n",
       "      <td>42695.000000</td>\n",
       "      <td>11.990000</td>\n",
       "      <td>226.680000</td>\n",
       "      <td>158.400000</td>\n",
       "    </tr>\n",
       "    <tr>\n",
       "      <th>50%</th>\n",
       "      <td>1.021987e+07</td>\n",
       "      <td>42984.000000</td>\n",
       "      <td>22.440000</td>\n",
       "      <td>425.060000</td>\n",
       "      <td>295.596000</td>\n",
       "    </tr>\n",
       "    <tr>\n",
       "      <th>75%</th>\n",
       "      <td>1.032939e+07</td>\n",
       "      <td>43225.000000</td>\n",
       "      <td>32.960000</td>\n",
       "      <td>633.880000</td>\n",
       "      <td>432.432000</td>\n",
       "    </tr>\n",
       "    <tr>\n",
       "      <th>max</th>\n",
       "      <td>1.044011e+07</td>\n",
       "      <td>43465.000000</td>\n",
       "      <td>48.000000</td>\n",
       "      <td>2048.030000</td>\n",
       "      <td>691.200000</td>\n",
       "    </tr>\n",
       "  </tbody>\n",
       "</table>\n",
       "</div>"
      ],
      "text/plain": [
       "       Transaction ID  Date of Travel   KM Travelled  Price Charged  \\\n",
       "count    2.746810e+05   274681.000000  274681.000000  274681.000000   \n",
       "mean     1.021978e+07    42960.640022      22.569517     458.181990   \n",
       "std      1.269829e+05      307.990287      12.234298     288.386166   \n",
       "min      1.000038e+07    42371.000000       1.900000      20.730000   \n",
       "25%      1.011084e+07    42695.000000      11.990000     226.680000   \n",
       "50%      1.021987e+07    42984.000000      22.440000     425.060000   \n",
       "75%      1.032939e+07    43225.000000      32.960000     633.880000   \n",
       "max      1.044011e+07    43465.000000      48.000000    2048.030000   \n",
       "\n",
       "        Cost of Trip  \n",
       "count  274681.000000  \n",
       "mean      297.922004  \n",
       "std       162.548986  \n",
       "min        22.800000  \n",
       "25%       158.400000  \n",
       "50%       295.596000  \n",
       "75%       432.432000  \n",
       "max       691.200000  "
      ]
     },
     "execution_count": 20,
     "metadata": {},
     "output_type": "execute_result"
    }
   ],
   "source": [
    "yellow_cab_data.describe()"
   ]
  },
  {
   "cell_type": "markdown",
   "id": "1439bebe",
   "metadata": {},
   "source": [
    "####  Although both companies had similar distance travelled per trip, yellow cab company had an average cost per trip of 458 vs 310 for pink cab company. "
   ]
  },
  {
   "cell_type": "markdown",
   "id": "6bde229f",
   "metadata": {},
   "source": [
    "### Profit Visualizations"
   ]
  },
  {
   "cell_type": "code",
   "execution_count": 4,
   "id": "d83a1f31",
   "metadata": {},
   "outputs": [
    {
     "data": {
      "text/plain": [
       "array([160.25998584,  62.65217411])"
      ]
     },
     "execution_count": 4,
     "metadata": {},
     "output_type": "execute_result"
    }
   ],
   "source": [
    "cab_price_charged = [yellow_cab_data['Price Charged'].mean(), pink_cab_data['Price Charged'].mean()]\n",
    "cab_price_cost = [yellow_cab_data['Cost of Trip'].mean(), pink_cab_data['Cost of Trip'].mean()]\n",
    "\n",
    "cab_profit = np.subtract(np.array(cab_price_charged),(np.array(cab_price_cost)))\n",
    "cab_profit"
   ]
  },
  {
   "cell_type": "code",
   "execution_count": 157,
   "id": "36d733c9",
   "metadata": {},
   "outputs": [
    {
     "data": {
      "text/plain": [
       "<AxesSubplot:xlabel='cab_comp'>"
      ]
     },
     "execution_count": 157,
     "metadata": {},
     "output_type": "execute_result"
    },
    {
     "data": {
      "image/png": "[encoded data removed]",
      "text/plain": [
       "<Figure size 432x288 with 1 Axes>"
      ]
     },
     "metadata": {},
     "output_type": "display_data"
    }
   ],
   "source": [
    "df = pd.DataFrame({\n",
    "    'cab_comp': ['Yellow', 'Pink'],\n",
    "    'cab_cost': cab_price_cost,\n",
    "    'cab_profit': cab_profit\n",
    "})\n",
    "\n",
    "prof_plt = df.plot(x=\"cab_comp\", y='cab_cost', kind='bar')\n",
    "df.plot(x=\"cab_comp\", y='cab_profit', kind=\"bar\", ax=prof_plt, color=\"maroon\")"
   ]
  },
  {
   "cell_type": "code",
   "execution_count": 158,
   "id": "f7261ce9",
   "metadata": {},
   "outputs": [
    {
     "data": {
      "text/html": [
       "<div>\n",
       "<style scoped>\n",
       "    .dataframe tbody tr th:only-of-type {\n",
       "        vertical-align: middle;\n",
       "    }\n",
       "\n",
       "    .dataframe tbody tr th {\n",
       "        vertical-align: top;\n",
       "    }\n",
       "\n",
       "    .dataframe thead th {\n",
       "        text-align: right;\n",
       "    }\n",
       "</style>\n",
       "<table border=\"1\" class=\"dataframe\">\n",
       "  <thead>\n",
       "    <tr style=\"text-align: right;\">\n",
       "      <th></th>\n",
       "      <th>cab_comp</th>\n",
       "      <th>cab_cost</th>\n",
       "      <th>cab_profit</th>\n",
       "    </tr>\n",
       "  </thead>\n",
       "  <tbody>\n",
       "    <tr>\n",
       "      <th>0</th>\n",
       "      <td>Yellow</td>\n",
       "      <td>297.922004</td>\n",
       "      <td>160.259986</td>\n",
       "    </tr>\n",
       "    <tr>\n",
       "      <th>1</th>\n",
       "      <td>Pink</td>\n",
       "      <td>248.148682</td>\n",
       "      <td>62.652174</td>\n",
       "    </tr>\n",
       "  </tbody>\n",
       "</table>\n",
       "</div>"
      ],
      "text/plain": [
       "  cab_comp    cab_cost  cab_profit\n",
       "0   Yellow  297.922004  160.259986\n",
       "1     Pink  248.148682   62.652174"
      ]
     },
     "execution_count": 158,
     "metadata": {},
     "output_type": "execute_result"
    }
   ],
   "source": [
    "df"
   ]
  },
  {
   "cell_type": "markdown",
   "id": "a71084ff",
   "metadata": {},
   "source": [
    "#### Pink company has higher average costs per ride which shrinks the margin for profit."
   ]
  },
  {
   "cell_type": "markdown",
   "id": "99321bf9",
   "metadata": {},
   "source": [
    "# City Data and Customer Visualization"
   ]
  },
  {
   "cell_type": "code",
   "execution_count": 35,
   "id": "7bc38e6c",
   "metadata": {},
   "outputs": [
    {
     "data": {
      "text/html": [
       "<div>\n",
       "<style scoped>\n",
       "    .dataframe tbody tr th:only-of-type {\n",
       "        vertical-align: middle;\n",
       "    }\n",
       "\n",
       "    .dataframe tbody tr th {\n",
       "        vertical-align: top;\n",
       "    }\n",
       "\n",
       "    .dataframe thead th {\n",
       "        text-align: right;\n",
       "    }\n",
       "</style>\n",
       "<table border=\"1\" class=\"dataframe\">\n",
       "  <thead>\n",
       "    <tr style=\"text-align: right;\">\n",
       "      <th></th>\n",
       "      <th>City</th>\n",
       "      <th>Population</th>\n",
       "      <th>Users</th>\n",
       "    </tr>\n",
       "  </thead>\n",
       "  <tbody>\n",
       "    <tr>\n",
       "      <th>count</th>\n",
       "      <td>20</td>\n",
       "      <td>20</td>\n",
       "      <td>20</td>\n",
       "    </tr>\n",
       "    <tr>\n",
       "      <th>unique</th>\n",
       "      <td>20</td>\n",
       "      <td>20</td>\n",
       "      <td>20</td>\n",
       "    </tr>\n",
       "    <tr>\n",
       "      <th>top</th>\n",
       "      <td>NEW YORK NY</td>\n",
       "      <td>8,405,837</td>\n",
       "      <td>302,149</td>\n",
       "    </tr>\n",
       "    <tr>\n",
       "      <th>freq</th>\n",
       "      <td>1</td>\n",
       "      <td>1</td>\n",
       "      <td>1</td>\n",
       "    </tr>\n",
       "  </tbody>\n",
       "</table>\n",
       "</div>"
      ],
      "text/plain": [
       "               City   Population      Users\n",
       "count            20           20         20\n",
       "unique           20           20         20\n",
       "top     NEW YORK NY   8,405,837    302,149 \n",
       "freq              1            1          1"
      ]
     },
     "execution_count": 35,
     "metadata": {},
     "output_type": "execute_result"
    }
   ],
   "source": [
    "city_data.describe()"
   ]
  },
  {
   "cell_type": "code",
   "execution_count": 36,
   "id": "36848ccf",
   "metadata": {},
   "outputs": [
    {
     "data": {
      "text/html": [
       "<div>\n",
       "<style scoped>\n",
       "    .dataframe tbody tr th:only-of-type {\n",
       "        vertical-align: middle;\n",
       "    }\n",
       "\n",
       "    .dataframe tbody tr th {\n",
       "        vertical-align: top;\n",
       "    }\n",
       "\n",
       "    .dataframe thead th {\n",
       "        text-align: right;\n",
       "    }\n",
       "</style>\n",
       "<table border=\"1\" class=\"dataframe\">\n",
       "  <thead>\n",
       "    <tr style=\"text-align: right;\">\n",
       "      <th></th>\n",
       "      <th>City</th>\n",
       "      <th>Population</th>\n",
       "      <th>Users</th>\n",
       "    </tr>\n",
       "  </thead>\n",
       "  <tbody>\n",
       "    <tr>\n",
       "      <th>0</th>\n",
       "      <td>NEW YORK NY</td>\n",
       "      <td>8,405,837</td>\n",
       "      <td>302,149</td>\n",
       "    </tr>\n",
       "    <tr>\n",
       "      <th>1</th>\n",
       "      <td>CHICAGO IL</td>\n",
       "      <td>1,955,130</td>\n",
       "      <td>164,468</td>\n",
       "    </tr>\n",
       "    <tr>\n",
       "      <th>2</th>\n",
       "      <td>LOS ANGELES CA</td>\n",
       "      <td>1,595,037</td>\n",
       "      <td>144,132</td>\n",
       "    </tr>\n",
       "    <tr>\n",
       "      <th>3</th>\n",
       "      <td>MIAMI FL</td>\n",
       "      <td>1,339,155</td>\n",
       "      <td>17,675</td>\n",
       "    </tr>\n",
       "    <tr>\n",
       "      <th>4</th>\n",
       "      <td>SILICON VALLEY</td>\n",
       "      <td>1,177,609</td>\n",
       "      <td>27,247</td>\n",
       "    </tr>\n",
       "  </tbody>\n",
       "</table>\n",
       "</div>"
      ],
      "text/plain": [
       "             City   Population      Users\n",
       "0     NEW YORK NY   8,405,837    302,149 \n",
       "1      CHICAGO IL   1,955,130    164,468 \n",
       "2  LOS ANGELES CA   1,595,037    144,132 \n",
       "3        MIAMI FL   1,339,155     17,675 \n",
       "4  SILICON VALLEY   1,177,609     27,247 "
      ]
     },
     "execution_count": 36,
     "metadata": {},
     "output_type": "execute_result"
    }
   ],
   "source": [
    "city_data.head()"
   ]
  },
  {
   "cell_type": "code",
   "execution_count": 5,
   "id": "68757761",
   "metadata": {},
   "outputs": [
    {
     "data": {
      "text/html": [
       "<div>\n",
       "<style scoped>\n",
       "    .dataframe tbody tr th:only-of-type {\n",
       "        vertical-align: middle;\n",
       "    }\n",
       "\n",
       "    .dataframe tbody tr th {\n",
       "        vertical-align: top;\n",
       "    }\n",
       "\n",
       "    .dataframe thead th {\n",
       "        text-align: right;\n",
       "    }\n",
       "</style>\n",
       "<table border=\"1\" class=\"dataframe\">\n",
       "  <thead>\n",
       "    <tr style=\"text-align: right;\">\n",
       "      <th></th>\n",
       "      <th>Customer ID</th>\n",
       "      <th>Age</th>\n",
       "      <th>Income (USD/Month)</th>\n",
       "    </tr>\n",
       "  </thead>\n",
       "  <tbody>\n",
       "    <tr>\n",
       "      <th>count</th>\n",
       "      <td>49171.000000</td>\n",
       "      <td>49171.000000</td>\n",
       "      <td>49171.000000</td>\n",
       "    </tr>\n",
       "    <tr>\n",
       "      <th>mean</th>\n",
       "      <td>28398.252283</td>\n",
       "      <td>35.363121</td>\n",
       "      <td>15015.631856</td>\n",
       "    </tr>\n",
       "    <tr>\n",
       "      <th>std</th>\n",
       "      <td>17714.137333</td>\n",
       "      <td>12.599066</td>\n",
       "      <td>8002.208253</td>\n",
       "    </tr>\n",
       "    <tr>\n",
       "      <th>min</th>\n",
       "      <td>1.000000</td>\n",
       "      <td>18.000000</td>\n",
       "      <td>2000.000000</td>\n",
       "    </tr>\n",
       "    <tr>\n",
       "      <th>25%</th>\n",
       "      <td>12654.500000</td>\n",
       "      <td>25.000000</td>\n",
       "      <td>8289.500000</td>\n",
       "    </tr>\n",
       "    <tr>\n",
       "      <th>50%</th>\n",
       "      <td>27631.000000</td>\n",
       "      <td>33.000000</td>\n",
       "      <td>14656.000000</td>\n",
       "    </tr>\n",
       "    <tr>\n",
       "      <th>75%</th>\n",
       "      <td>43284.500000</td>\n",
       "      <td>42.000000</td>\n",
       "      <td>21035.000000</td>\n",
       "    </tr>\n",
       "    <tr>\n",
       "      <th>max</th>\n",
       "      <td>60000.000000</td>\n",
       "      <td>65.000000</td>\n",
       "      <td>35000.000000</td>\n",
       "    </tr>\n",
       "  </tbody>\n",
       "</table>\n",
       "</div>"
      ],
      "text/plain": [
       "        Customer ID           Age  Income (USD/Month)\n",
       "count  49171.000000  49171.000000        49171.000000\n",
       "mean   28398.252283     35.363121        15015.631856\n",
       "std    17714.137333     12.599066         8002.208253\n",
       "min        1.000000     18.000000         2000.000000\n",
       "25%    12654.500000     25.000000         8289.500000\n",
       "50%    27631.000000     33.000000        14656.000000\n",
       "75%    43284.500000     42.000000        21035.000000\n",
       "max    60000.000000     65.000000        35000.000000"
      ]
     },
     "execution_count": 5,
     "metadata": {},
     "output_type": "execute_result"
    }
   ],
   "source": [
    "customer_data.describe()"
   ]
  },
  {
   "cell_type": "code",
   "execution_count": 6,
   "id": "8b1b5bf2",
   "metadata": {},
   "outputs": [
    {
     "data": {
      "text/html": [
       "<div>\n",
       "<style scoped>\n",
       "    .dataframe tbody tr th:only-of-type {\n",
       "        vertical-align: middle;\n",
       "    }\n",
       "\n",
       "    .dataframe tbody tr th {\n",
       "        vertical-align: top;\n",
       "    }\n",
       "\n",
       "    .dataframe thead th {\n",
       "        text-align: right;\n",
       "    }\n",
       "</style>\n",
       "<table border=\"1\" class=\"dataframe\">\n",
       "  <thead>\n",
       "    <tr style=\"text-align: right;\">\n",
       "      <th></th>\n",
       "      <th>Customer ID</th>\n",
       "      <th>Gender</th>\n",
       "      <th>Age</th>\n",
       "      <th>Income (USD/Month)</th>\n",
       "    </tr>\n",
       "  </thead>\n",
       "  <tbody>\n",
       "    <tr>\n",
       "      <th>0</th>\n",
       "      <td>29290</td>\n",
       "      <td>Male</td>\n",
       "      <td>28</td>\n",
       "      <td>10813</td>\n",
       "    </tr>\n",
       "    <tr>\n",
       "      <th>1</th>\n",
       "      <td>27703</td>\n",
       "      <td>Male</td>\n",
       "      <td>27</td>\n",
       "      <td>9237</td>\n",
       "    </tr>\n",
       "    <tr>\n",
       "      <th>2</th>\n",
       "      <td>28712</td>\n",
       "      <td>Male</td>\n",
       "      <td>53</td>\n",
       "      <td>11242</td>\n",
       "    </tr>\n",
       "    <tr>\n",
       "      <th>3</th>\n",
       "      <td>28020</td>\n",
       "      <td>Male</td>\n",
       "      <td>23</td>\n",
       "      <td>23327</td>\n",
       "    </tr>\n",
       "    <tr>\n",
       "      <th>4</th>\n",
       "      <td>27182</td>\n",
       "      <td>Male</td>\n",
       "      <td>33</td>\n",
       "      <td>8536</td>\n",
       "    </tr>\n",
       "  </tbody>\n",
       "</table>\n",
       "</div>"
      ],
      "text/plain": [
       "   Customer ID Gender  Age  Income (USD/Month)\n",
       "0        29290   Male   28               10813\n",
       "1        27703   Male   27                9237\n",
       "2        28712   Male   53               11242\n",
       "3        28020   Male   23               23327\n",
       "4        27182   Male   33                8536"
      ]
     },
     "execution_count": 6,
     "metadata": {},
     "output_type": "execute_result"
    }
   ],
   "source": [
    "customer_data.head()"
   ]
  },
  {
   "cell_type": "code",
   "execution_count": 10,
   "id": "2f4d278d",
   "metadata": {},
   "outputs": [
    {
     "data": {
      "text/plain": [
       "Male      26562\n",
       "Female    22609\n",
       "Name: Gender, dtype: int64"
      ]
     },
     "execution_count": 10,
     "metadata": {},
     "output_type": "execute_result"
    }
   ],
   "source": [
    "customer_data['Gender'].value_counts()"
   ]
  },
  {
   "cell_type": "code",
   "execution_count": 14,
   "id": "6afd3f08",
   "metadata": {},
   "outputs": [
    {
     "name": "stderr",
     "output_type": "stream",
     "text": [
      "E:\\anaconda\\lib\\site-packages\\seaborn\\distributions.py:2619: FutureWarning: `distplot` is a deprecated function and will be removed in a future version. Please adapt your code to use either `displot` (a figure-level function with similar flexibility) or `histplot` (an axes-level function for histograms).\n",
      "  warnings.warn(msg, FutureWarning)\n"
     ]
    },
    {
     "data": {
      "text/plain": [
       "<AxesSubplot:xlabel='Income (USD/Month)', ylabel='Density'>"
      ]
     },
     "execution_count": 14,
     "metadata": {},
     "output_type": "execute_result"
    },
    {
     "data": {
      "image/png": "[encoded data removed]",
      "text/plain": [
       "<Figure size 432x288 with 1 Axes>"
      ]
     },
     "metadata": {},
     "output_type": "display_data"
    }
   ],
   "source": [
    "sns.distplot(customer_data['Income (USD/Month)'])"
   ]
  },
  {
   "cell_type": "code",
   "execution_count": null,
   "id": "e4716f9c",
   "metadata": {},
   "outputs": [],
   "source": []
  },
  {
   "cell_type": "markdown",
   "id": "490f669b",
   "metadata": {},
   "source": [
    "### Transaction Data Visualization"
   ]
  },
  {
   "cell_type": "code",
   "execution_count": 15,
   "id": "4f46fefc",
   "metadata": {},
   "outputs": [
    {
     "data": {
      "text/html": [
       "<div>\n",
       "<style scoped>\n",
       "    .dataframe tbody tr th:only-of-type {\n",
       "        vertical-align: middle;\n",
       "    }\n",
       "\n",
       "    .dataframe tbody tr th {\n",
       "        vertical-align: top;\n",
       "    }\n",
       "\n",
       "    .dataframe thead th {\n",
       "        text-align: right;\n",
       "    }\n",
       "</style>\n",
       "<table border=\"1\" class=\"dataframe\">\n",
       "  <thead>\n",
       "    <tr style=\"text-align: right;\">\n",
       "      <th></th>\n",
       "      <th>Transaction ID</th>\n",
       "      <th>Customer ID</th>\n",
       "    </tr>\n",
       "  </thead>\n",
       "  <tbody>\n",
       "    <tr>\n",
       "      <th>count</th>\n",
       "      <td>4.400980e+05</td>\n",
       "      <td>440098.000000</td>\n",
       "    </tr>\n",
       "    <tr>\n",
       "      <th>mean</th>\n",
       "      <td>1.022006e+07</td>\n",
       "      <td>23619.513120</td>\n",
       "    </tr>\n",
       "    <tr>\n",
       "      <th>std</th>\n",
       "      <td>1.270455e+05</td>\n",
       "      <td>21195.549816</td>\n",
       "    </tr>\n",
       "    <tr>\n",
       "      <th>min</th>\n",
       "      <td>1.000001e+07</td>\n",
       "      <td>1.000000</td>\n",
       "    </tr>\n",
       "    <tr>\n",
       "      <th>25%</th>\n",
       "      <td>1.011004e+07</td>\n",
       "      <td>3530.000000</td>\n",
       "    </tr>\n",
       "    <tr>\n",
       "      <th>50%</th>\n",
       "      <td>1.022006e+07</td>\n",
       "      <td>15168.000000</td>\n",
       "    </tr>\n",
       "    <tr>\n",
       "      <th>75%</th>\n",
       "      <td>1.033008e+07</td>\n",
       "      <td>43884.000000</td>\n",
       "    </tr>\n",
       "    <tr>\n",
       "      <th>max</th>\n",
       "      <td>1.044011e+07</td>\n",
       "      <td>60000.000000</td>\n",
       "    </tr>\n",
       "  </tbody>\n",
       "</table>\n",
       "</div>"
      ],
      "text/plain": [
       "       Transaction ID    Customer ID\n",
       "count    4.400980e+05  440098.000000\n",
       "mean     1.022006e+07   23619.513120\n",
       "std      1.270455e+05   21195.549816\n",
       "min      1.000001e+07       1.000000\n",
       "25%      1.011004e+07    3530.000000\n",
       "50%      1.022006e+07   15168.000000\n",
       "75%      1.033008e+07   43884.000000\n",
       "max      1.044011e+07   60000.000000"
      ]
     },
     "execution_count": 15,
     "metadata": {},
     "output_type": "execute_result"
    }
   ],
   "source": [
    "trans_data.describe()"
   ]
  },
  {
   "cell_type": "code",
   "execution_count": 16,
   "id": "ba191a5a",
   "metadata": {},
   "outputs": [
    {
     "data": {
      "text/html": [
       "<div>\n",
       "<style scoped>\n",
       "    .dataframe tbody tr th:only-of-type {\n",
       "        vertical-align: middle;\n",
       "    }\n",
       "\n",
       "    .dataframe tbody tr th {\n",
       "        vertical-align: top;\n",
       "    }\n",
       "\n",
       "    .dataframe thead th {\n",
       "        text-align: right;\n",
       "    }\n",
       "</style>\n",
       "<table border=\"1\" class=\"dataframe\">\n",
       "  <thead>\n",
       "    <tr style=\"text-align: right;\">\n",
       "      <th></th>\n",
       "      <th>Transaction ID</th>\n",
       "      <th>Customer ID</th>\n",
       "      <th>Payment_Mode</th>\n",
       "    </tr>\n",
       "  </thead>\n",
       "  <tbody>\n",
       "    <tr>\n",
       "      <th>0</th>\n",
       "      <td>10000011</td>\n",
       "      <td>29290</td>\n",
       "      <td>Card</td>\n",
       "    </tr>\n",
       "    <tr>\n",
       "      <th>1</th>\n",
       "      <td>10000012</td>\n",
       "      <td>27703</td>\n",
       "      <td>Card</td>\n",
       "    </tr>\n",
       "    <tr>\n",
       "      <th>2</th>\n",
       "      <td>10000013</td>\n",
       "      <td>28712</td>\n",
       "      <td>Cash</td>\n",
       "    </tr>\n",
       "    <tr>\n",
       "      <th>3</th>\n",
       "      <td>10000014</td>\n",
       "      <td>28020</td>\n",
       "      <td>Cash</td>\n",
       "    </tr>\n",
       "    <tr>\n",
       "      <th>4</th>\n",
       "      <td>10000015</td>\n",
       "      <td>27182</td>\n",
       "      <td>Card</td>\n",
       "    </tr>\n",
       "  </tbody>\n",
       "</table>\n",
       "</div>"
      ],
      "text/plain": [
       "   Transaction ID  Customer ID Payment_Mode\n",
       "0        10000011        29290         Card\n",
       "1        10000012        27703         Card\n",
       "2        10000013        28712         Cash\n",
       "3        10000014        28020         Cash\n",
       "4        10000015        27182         Card"
      ]
     },
     "execution_count": 16,
     "metadata": {},
     "output_type": "execute_result"
    }
   ],
   "source": [
    "trans_data.head()"
   ]
  },
  {
   "cell_type": "markdown",
   "id": "4b311b87",
   "metadata": {},
   "source": [
    "#### The transaction data holds both transaction ID and customer ID, so we can merge the dataframes based on these IDs"
   ]
  },
  {
   "cell_type": "markdown",
   "id": "bfd9ed2b",
   "metadata": {},
   "source": [
    "### Combining Transaction Data, Customer Data, and Cab Data"
   ]
  },
  {
   "cell_type": "code",
   "execution_count": 24,
   "id": "4a503e59",
   "metadata": {},
   "outputs": [
    {
     "data": {
      "text/html": [
       "<div>\n",
       "<style scoped>\n",
       "    .dataframe tbody tr th:only-of-type {\n",
       "        vertical-align: middle;\n",
       "    }\n",
       "\n",
       "    .dataframe tbody tr th {\n",
       "        vertical-align: top;\n",
       "    }\n",
       "\n",
       "    .dataframe thead th {\n",
       "        text-align: right;\n",
       "    }\n",
       "</style>\n",
       "<table border=\"1\" class=\"dataframe\">\n",
       "  <thead>\n",
       "    <tr style=\"text-align: right;\">\n",
       "      <th></th>\n",
       "      <th>Customer ID</th>\n",
       "      <th>Age</th>\n",
       "      <th>Income (USD/Month)</th>\n",
       "      <th>Transaction ID</th>\n",
       "    </tr>\n",
       "  </thead>\n",
       "  <tbody>\n",
       "    <tr>\n",
       "      <th>count</th>\n",
       "      <td>440098.000000</td>\n",
       "      <td>440098.000000</td>\n",
       "      <td>440098.000000</td>\n",
       "      <td>4.400980e+05</td>\n",
       "    </tr>\n",
       "    <tr>\n",
       "      <th>mean</th>\n",
       "      <td>23619.513120</td>\n",
       "      <td>35.360197</td>\n",
       "      <td>15092.181989</td>\n",
       "      <td>1.022006e+07</td>\n",
       "    </tr>\n",
       "    <tr>\n",
       "      <th>std</th>\n",
       "      <td>21195.549816</td>\n",
       "      <td>12.582668</td>\n",
       "      <td>7987.309505</td>\n",
       "      <td>1.270455e+05</td>\n",
       "    </tr>\n",
       "    <tr>\n",
       "      <th>min</th>\n",
       "      <td>1.000000</td>\n",
       "      <td>18.000000</td>\n",
       "      <td>2000.000000</td>\n",
       "      <td>1.000001e+07</td>\n",
       "    </tr>\n",
       "    <tr>\n",
       "      <th>25%</th>\n",
       "      <td>3530.000000</td>\n",
       "      <td>25.000000</td>\n",
       "      <td>8391.000000</td>\n",
       "      <td>1.011004e+07</td>\n",
       "    </tr>\n",
       "    <tr>\n",
       "      <th>50%</th>\n",
       "      <td>15168.000000</td>\n",
       "      <td>33.000000</td>\n",
       "      <td>14767.000000</td>\n",
       "      <td>1.022006e+07</td>\n",
       "    </tr>\n",
       "    <tr>\n",
       "      <th>75%</th>\n",
       "      <td>43884.000000</td>\n",
       "      <td>42.000000</td>\n",
       "      <td>21084.000000</td>\n",
       "      <td>1.033008e+07</td>\n",
       "    </tr>\n",
       "    <tr>\n",
       "      <th>max</th>\n",
       "      <td>60000.000000</td>\n",
       "      <td>65.000000</td>\n",
       "      <td>35000.000000</td>\n",
       "      <td>1.044011e+07</td>\n",
       "    </tr>\n",
       "  </tbody>\n",
       "</table>\n",
       "</div>"
      ],
      "text/plain": [
       "         Customer ID            Age  Income (USD/Month)  Transaction ID\n",
       "count  440098.000000  440098.000000       440098.000000    4.400980e+05\n",
       "mean    23619.513120      35.360197        15092.181989    1.022006e+07\n",
       "std     21195.549816      12.582668         7987.309505    1.270455e+05\n",
       "min         1.000000      18.000000         2000.000000    1.000001e+07\n",
       "25%      3530.000000      25.000000         8391.000000    1.011004e+07\n",
       "50%     15168.000000      33.000000        14767.000000    1.022006e+07\n",
       "75%     43884.000000      42.000000        21084.000000    1.033008e+07\n",
       "max     60000.000000      65.000000        35000.000000    1.044011e+07"
      ]
     },
     "execution_count": 24,
     "metadata": {},
     "output_type": "execute_result"
    }
   ],
   "source": [
    "data_merged = pd.merge(customer_data, trans_data)\n",
    "data_merged.describe()"
   ]
  },
  {
   "cell_type": "code",
   "execution_count": 18,
   "id": "86fc4667",
   "metadata": {},
   "outputs": [
    {
     "data": {
      "text/html": [
       "<div>\n",
       "<style scoped>\n",
       "    .dataframe tbody tr th:only-of-type {\n",
       "        vertical-align: middle;\n",
       "    }\n",
       "\n",
       "    .dataframe tbody tr th {\n",
       "        vertical-align: top;\n",
       "    }\n",
       "\n",
       "    .dataframe thead th {\n",
       "        text-align: right;\n",
       "    }\n",
       "</style>\n",
       "<table border=\"1\" class=\"dataframe\">\n",
       "  <thead>\n",
       "    <tr style=\"text-align: right;\">\n",
       "      <th></th>\n",
       "      <th>Customer ID</th>\n",
       "      <th>Gender</th>\n",
       "      <th>Age</th>\n",
       "      <th>Income (USD/Month)</th>\n",
       "      <th>Transaction ID</th>\n",
       "      <th>Payment_Mode</th>\n",
       "    </tr>\n",
       "  </thead>\n",
       "  <tbody>\n",
       "    <tr>\n",
       "      <th>0</th>\n",
       "      <td>29290</td>\n",
       "      <td>Male</td>\n",
       "      <td>28</td>\n",
       "      <td>10813</td>\n",
       "      <td>10000011</td>\n",
       "      <td>Card</td>\n",
       "    </tr>\n",
       "    <tr>\n",
       "      <th>1</th>\n",
       "      <td>29290</td>\n",
       "      <td>Male</td>\n",
       "      <td>28</td>\n",
       "      <td>10813</td>\n",
       "      <td>10351127</td>\n",
       "      <td>Cash</td>\n",
       "    </tr>\n",
       "    <tr>\n",
       "      <th>2</th>\n",
       "      <td>29290</td>\n",
       "      <td>Male</td>\n",
       "      <td>28</td>\n",
       "      <td>10813</td>\n",
       "      <td>10412921</td>\n",
       "      <td>Card</td>\n",
       "    </tr>\n",
       "    <tr>\n",
       "      <th>3</th>\n",
       "      <td>27703</td>\n",
       "      <td>Male</td>\n",
       "      <td>27</td>\n",
       "      <td>9237</td>\n",
       "      <td>10000012</td>\n",
       "      <td>Card</td>\n",
       "    </tr>\n",
       "    <tr>\n",
       "      <th>4</th>\n",
       "      <td>27703</td>\n",
       "      <td>Male</td>\n",
       "      <td>27</td>\n",
       "      <td>9237</td>\n",
       "      <td>10320494</td>\n",
       "      <td>Card</td>\n",
       "    </tr>\n",
       "  </tbody>\n",
       "</table>\n",
       "</div>"
      ],
      "text/plain": [
       "   Customer ID Gender  Age  Income (USD/Month)  Transaction ID Payment_Mode\n",
       "0        29290   Male   28               10813        10000011         Card\n",
       "1        29290   Male   28               10813        10351127         Cash\n",
       "2        29290   Male   28               10813        10412921         Card\n",
       "3        27703   Male   27                9237        10000012         Card\n",
       "4        27703   Male   27                9237        10320494         Card"
      ]
     },
     "execution_count": 18,
     "metadata": {},
     "output_type": "execute_result"
    }
   ],
   "source": [
    "data_merged.head()"
   ]
  },
  {
   "cell_type": "markdown",
   "id": "7ff8a83c",
   "metadata": {},
   "source": [
    "#### Now adding in cab data based on transaction ID"
   ]
  },
  {
   "cell_type": "code",
   "execution_count": 25,
   "id": "074431ae",
   "metadata": {},
   "outputs": [
    {
     "data": {
      "text/html": [
       "<div>\n",
       "<style scoped>\n",
       "    .dataframe tbody tr th:only-of-type {\n",
       "        vertical-align: middle;\n",
       "    }\n",
       "\n",
       "    .dataframe tbody tr th {\n",
       "        vertical-align: top;\n",
       "    }\n",
       "\n",
       "    .dataframe thead th {\n",
       "        text-align: right;\n",
       "    }\n",
       "</style>\n",
       "<table border=\"1\" class=\"dataframe\">\n",
       "  <thead>\n",
       "    <tr style=\"text-align: right;\">\n",
       "      <th></th>\n",
       "      <th>Customer ID</th>\n",
       "      <th>Gender</th>\n",
       "      <th>Age</th>\n",
       "      <th>Income (USD/Month)</th>\n",
       "      <th>Transaction ID</th>\n",
       "      <th>Payment_Mode</th>\n",
       "      <th>Date of Travel</th>\n",
       "      <th>Company</th>\n",
       "      <th>City</th>\n",
       "      <th>KM Travelled</th>\n",
       "      <th>Price Charged</th>\n",
       "      <th>Cost of Trip</th>\n",
       "    </tr>\n",
       "  </thead>\n",
       "  <tbody>\n",
       "    <tr>\n",
       "      <th>0</th>\n",
       "      <td>29290</td>\n",
       "      <td>Male</td>\n",
       "      <td>28</td>\n",
       "      <td>10813</td>\n",
       "      <td>10000011</td>\n",
       "      <td>Card</td>\n",
       "      <td>42377</td>\n",
       "      <td>Pink Cab</td>\n",
       "      <td>ATLANTA GA</td>\n",
       "      <td>30.45</td>\n",
       "      <td>370.95</td>\n",
       "      <td>313.6350</td>\n",
       "    </tr>\n",
       "    <tr>\n",
       "      <th>1</th>\n",
       "      <td>29290</td>\n",
       "      <td>Male</td>\n",
       "      <td>28</td>\n",
       "      <td>10813</td>\n",
       "      <td>10351127</td>\n",
       "      <td>Cash</td>\n",
       "      <td>43302</td>\n",
       "      <td>Yellow Cab</td>\n",
       "      <td>ATLANTA GA</td>\n",
       "      <td>26.19</td>\n",
       "      <td>598.70</td>\n",
       "      <td>317.4228</td>\n",
       "    </tr>\n",
       "    <tr>\n",
       "      <th>2</th>\n",
       "      <td>29290</td>\n",
       "      <td>Male</td>\n",
       "      <td>28</td>\n",
       "      <td>10813</td>\n",
       "      <td>10412921</td>\n",
       "      <td>Card</td>\n",
       "      <td>43427</td>\n",
       "      <td>Yellow Cab</td>\n",
       "      <td>ATLANTA GA</td>\n",
       "      <td>42.55</td>\n",
       "      <td>792.05</td>\n",
       "      <td>597.4020</td>\n",
       "    </tr>\n",
       "    <tr>\n",
       "      <th>3</th>\n",
       "      <td>27703</td>\n",
       "      <td>Male</td>\n",
       "      <td>27</td>\n",
       "      <td>9237</td>\n",
       "      <td>10000012</td>\n",
       "      <td>Card</td>\n",
       "      <td>42375</td>\n",
       "      <td>Pink Cab</td>\n",
       "      <td>ATLANTA GA</td>\n",
       "      <td>28.62</td>\n",
       "      <td>358.52</td>\n",
       "      <td>334.8540</td>\n",
       "    </tr>\n",
       "    <tr>\n",
       "      <th>4</th>\n",
       "      <td>27703</td>\n",
       "      <td>Male</td>\n",
       "      <td>27</td>\n",
       "      <td>9237</td>\n",
       "      <td>10320494</td>\n",
       "      <td>Card</td>\n",
       "      <td>43211</td>\n",
       "      <td>Yellow Cab</td>\n",
       "      <td>ATLANTA GA</td>\n",
       "      <td>36.38</td>\n",
       "      <td>721.10</td>\n",
       "      <td>467.1192</td>\n",
       "    </tr>\n",
       "  </tbody>\n",
       "</table>\n",
       "</div>"
      ],
      "text/plain": [
       "   Customer ID Gender  Age  Income (USD/Month)  Transaction ID Payment_Mode  \\\n",
       "0        29290   Male   28               10813        10000011         Card   \n",
       "1        29290   Male   28               10813        10351127         Cash   \n",
       "2        29290   Male   28               10813        10412921         Card   \n",
       "3        27703   Male   27                9237        10000012         Card   \n",
       "4        27703   Male   27                9237        10320494         Card   \n",
       "\n",
       "   Date of Travel     Company        City  KM Travelled  Price Charged  \\\n",
       "0           42377    Pink Cab  ATLANTA GA         30.45         370.95   \n",
       "1           43302  Yellow Cab  ATLANTA GA         26.19         598.70   \n",
       "2           43427  Yellow Cab  ATLANTA GA         42.55         792.05   \n",
       "3           42375    Pink Cab  ATLANTA GA         28.62         358.52   \n",
       "4           43211  Yellow Cab  ATLANTA GA         36.38         721.10   \n",
       "\n",
       "   Cost of Trip  \n",
       "0      313.6350  \n",
       "1      317.4228  \n",
       "2      597.4020  \n",
       "3      334.8540  \n",
       "4      467.1192  "
      ]
     },
     "execution_count": 25,
     "metadata": {},
     "output_type": "execute_result"
    }
   ],
   "source": [
    "data_merged = pd.merge(data_merged, cab_data)\n",
    "data_merged.head()"
   ]
  },
  {
   "cell_type": "markdown",
   "id": "5544dd3a",
   "metadata": {},
   "source": [
    "#### Now that we have all the data in one dataframe, we can explore more deeply customer trends."
   ]
  },
  {
   "cell_type": "markdown",
   "id": "2aa3165b",
   "metadata": {},
   "source": [
    "##### First lets rename columns"
   ]
  },
  {
   "cell_type": "code",
   "execution_count": 26,
   "id": "27f248f0",
   "metadata": {},
   "outputs": [
    {
     "data": {
      "text/html": [
       "<div>\n",
       "<style scoped>\n",
       "    .dataframe tbody tr th:only-of-type {\n",
       "        vertical-align: middle;\n",
       "    }\n",
       "\n",
       "    .dataframe tbody tr th {\n",
       "        vertical-align: top;\n",
       "    }\n",
       "\n",
       "    .dataframe thead th {\n",
       "        text-align: right;\n",
       "    }\n",
       "</style>\n",
       "<table border=\"1\" class=\"dataframe\">\n",
       "  <thead>\n",
       "    <tr style=\"text-align: right;\">\n",
       "      <th></th>\n",
       "      <th>CID</th>\n",
       "      <th>Gender</th>\n",
       "      <th>Age</th>\n",
       "      <th>Income</th>\n",
       "      <th>TID</th>\n",
       "      <th>Payment_Mode</th>\n",
       "      <th>Date</th>\n",
       "      <th>Company</th>\n",
       "      <th>City</th>\n",
       "      <th>KM_Travelled</th>\n",
       "      <th>Price_Charged</th>\n",
       "      <th>Cost_of_Trip</th>\n",
       "    </tr>\n",
       "  </thead>\n",
       "  <tbody>\n",
       "    <tr>\n",
       "      <th>0</th>\n",
       "      <td>29290</td>\n",
       "      <td>Male</td>\n",
       "      <td>28</td>\n",
       "      <td>10813</td>\n",
       "      <td>10000011</td>\n",
       "      <td>Card</td>\n",
       "      <td>42377</td>\n",
       "      <td>Pink Cab</td>\n",
       "      <td>ATLANTA GA</td>\n",
       "      <td>30.45</td>\n",
       "      <td>370.95</td>\n",
       "      <td>313.6350</td>\n",
       "    </tr>\n",
       "    <tr>\n",
       "      <th>1</th>\n",
       "      <td>29290</td>\n",
       "      <td>Male</td>\n",
       "      <td>28</td>\n",
       "      <td>10813</td>\n",
       "      <td>10351127</td>\n",
       "      <td>Cash</td>\n",
       "      <td>43302</td>\n",
       "      <td>Yellow Cab</td>\n",
       "      <td>ATLANTA GA</td>\n",
       "      <td>26.19</td>\n",
       "      <td>598.70</td>\n",
       "      <td>317.4228</td>\n",
       "    </tr>\n",
       "    <tr>\n",
       "      <th>2</th>\n",
       "      <td>29290</td>\n",
       "      <td>Male</td>\n",
       "      <td>28</td>\n",
       "      <td>10813</td>\n",
       "      <td>10412921</td>\n",
       "      <td>Card</td>\n",
       "      <td>43427</td>\n",
       "      <td>Yellow Cab</td>\n",
       "      <td>ATLANTA GA</td>\n",
       "      <td>42.55</td>\n",
       "      <td>792.05</td>\n",
       "      <td>597.4020</td>\n",
       "    </tr>\n",
       "    <tr>\n",
       "      <th>3</th>\n",
       "      <td>27703</td>\n",
       "      <td>Male</td>\n",
       "      <td>27</td>\n",
       "      <td>9237</td>\n",
       "      <td>10000012</td>\n",
       "      <td>Card</td>\n",
       "      <td>42375</td>\n",
       "      <td>Pink Cab</td>\n",
       "      <td>ATLANTA GA</td>\n",
       "      <td>28.62</td>\n",
       "      <td>358.52</td>\n",
       "      <td>334.8540</td>\n",
       "    </tr>\n",
       "    <tr>\n",
       "      <th>4</th>\n",
       "      <td>27703</td>\n",
       "      <td>Male</td>\n",
       "      <td>27</td>\n",
       "      <td>9237</td>\n",
       "      <td>10320494</td>\n",
       "      <td>Card</td>\n",
       "      <td>43211</td>\n",
       "      <td>Yellow Cab</td>\n",
       "      <td>ATLANTA GA</td>\n",
       "      <td>36.38</td>\n",
       "      <td>721.10</td>\n",
       "      <td>467.1192</td>\n",
       "    </tr>\n",
       "  </tbody>\n",
       "</table>\n",
       "</div>"
      ],
      "text/plain": [
       "     CID Gender  Age  Income       TID Payment_Mode   Date     Company  \\\n",
       "0  29290   Male   28   10813  10000011         Card  42377    Pink Cab   \n",
       "1  29290   Male   28   10813  10351127         Cash  43302  Yellow Cab   \n",
       "2  29290   Male   28   10813  10412921         Card  43427  Yellow Cab   \n",
       "3  27703   Male   27    9237  10000012         Card  42375    Pink Cab   \n",
       "4  27703   Male   27    9237  10320494         Card  43211  Yellow Cab   \n",
       "\n",
       "         City  KM_Travelled  Price_Charged  Cost_of_Trip  \n",
       "0  ATLANTA GA         30.45         370.95      313.6350  \n",
       "1  ATLANTA GA         26.19         598.70      317.4228  \n",
       "2  ATLANTA GA         42.55         792.05      597.4020  \n",
       "3  ATLANTA GA         28.62         358.52      334.8540  \n",
       "4  ATLANTA GA         36.38         721.10      467.1192  "
      ]
     },
     "execution_count": 26,
     "metadata": {},
     "output_type": "execute_result"
    }
   ],
   "source": [
    "data_merged.rename(columns = {'Customer ID': 'CID', 'Income (USD/Month)': 'Income', 'Transaction ID': 'TID', \n",
    "                              \"Date of Travel\": \"Date\", 'KM Travelled': \"KM_Travelled\", 'Price Charged': 'Price_Charged',\n",
    "                              'Cost of Trip': 'Cost_of_Trip'}, inplace = True)\n",
    "data_merged.head()"
   ]
  },
  {
   "cell_type": "code",
   "execution_count": 27,
   "id": "3ae1d6c9",
   "metadata": {},
   "outputs": [
    {
     "data": {
      "text/html": [
       "<div>\n",
       "<style scoped>\n",
       "    .dataframe tbody tr th:only-of-type {\n",
       "        vertical-align: middle;\n",
       "    }\n",
       "\n",
       "    .dataframe tbody tr th {\n",
       "        vertical-align: top;\n",
       "    }\n",
       "\n",
       "    .dataframe thead th {\n",
       "        text-align: right;\n",
       "    }\n",
       "</style>\n",
       "<table border=\"1\" class=\"dataframe\">\n",
       "  <thead>\n",
       "    <tr style=\"text-align: right;\">\n",
       "      <th></th>\n",
       "      <th>CID</th>\n",
       "      <th>Gender</th>\n",
       "      <th>Age</th>\n",
       "      <th>Income</th>\n",
       "      <th>TID</th>\n",
       "      <th>Payment_Mode</th>\n",
       "      <th>Date</th>\n",
       "      <th>Company</th>\n",
       "      <th>City</th>\n",
       "      <th>KM_Travelled</th>\n",
       "      <th>Price_Charged</th>\n",
       "      <th>Cost_of_Trip</th>\n",
       "      <th>Profit</th>\n",
       "    </tr>\n",
       "  </thead>\n",
       "  <tbody>\n",
       "    <tr>\n",
       "      <th>0</th>\n",
       "      <td>29290</td>\n",
       "      <td>Male</td>\n",
       "      <td>28</td>\n",
       "      <td>10813</td>\n",
       "      <td>10000011</td>\n",
       "      <td>Card</td>\n",
       "      <td>42377</td>\n",
       "      <td>Pink Cab</td>\n",
       "      <td>ATLANTA GA</td>\n",
       "      <td>30.45</td>\n",
       "      <td>370.95</td>\n",
       "      <td>313.6350</td>\n",
       "      <td>57.3150</td>\n",
       "    </tr>\n",
       "    <tr>\n",
       "      <th>1</th>\n",
       "      <td>29290</td>\n",
       "      <td>Male</td>\n",
       "      <td>28</td>\n",
       "      <td>10813</td>\n",
       "      <td>10351127</td>\n",
       "      <td>Cash</td>\n",
       "      <td>43302</td>\n",
       "      <td>Yellow Cab</td>\n",
       "      <td>ATLANTA GA</td>\n",
       "      <td>26.19</td>\n",
       "      <td>598.70</td>\n",
       "      <td>317.4228</td>\n",
       "      <td>281.2772</td>\n",
       "    </tr>\n",
       "    <tr>\n",
       "      <th>2</th>\n",
       "      <td>29290</td>\n",
       "      <td>Male</td>\n",
       "      <td>28</td>\n",
       "      <td>10813</td>\n",
       "      <td>10412921</td>\n",
       "      <td>Card</td>\n",
       "      <td>43427</td>\n",
       "      <td>Yellow Cab</td>\n",
       "      <td>ATLANTA GA</td>\n",
       "      <td>42.55</td>\n",
       "      <td>792.05</td>\n",
       "      <td>597.4020</td>\n",
       "      <td>194.6480</td>\n",
       "    </tr>\n",
       "    <tr>\n",
       "      <th>3</th>\n",
       "      <td>27703</td>\n",
       "      <td>Male</td>\n",
       "      <td>27</td>\n",
       "      <td>9237</td>\n",
       "      <td>10000012</td>\n",
       "      <td>Card</td>\n",
       "      <td>42375</td>\n",
       "      <td>Pink Cab</td>\n",
       "      <td>ATLANTA GA</td>\n",
       "      <td>28.62</td>\n",
       "      <td>358.52</td>\n",
       "      <td>334.8540</td>\n",
       "      <td>23.6660</td>\n",
       "    </tr>\n",
       "    <tr>\n",
       "      <th>4</th>\n",
       "      <td>27703</td>\n",
       "      <td>Male</td>\n",
       "      <td>27</td>\n",
       "      <td>9237</td>\n",
       "      <td>10320494</td>\n",
       "      <td>Card</td>\n",
       "      <td>43211</td>\n",
       "      <td>Yellow Cab</td>\n",
       "      <td>ATLANTA GA</td>\n",
       "      <td>36.38</td>\n",
       "      <td>721.10</td>\n",
       "      <td>467.1192</td>\n",
       "      <td>253.9808</td>\n",
       "    </tr>\n",
       "    <tr>\n",
       "      <th>...</th>\n",
       "      <td>...</td>\n",
       "      <td>...</td>\n",
       "      <td>...</td>\n",
       "      <td>...</td>\n",
       "      <td>...</td>\n",
       "      <td>...</td>\n",
       "      <td>...</td>\n",
       "      <td>...</td>\n",
       "      <td>...</td>\n",
       "      <td>...</td>\n",
       "      <td>...</td>\n",
       "      <td>...</td>\n",
       "      <td>...</td>\n",
       "    </tr>\n",
       "    <tr>\n",
       "      <th>359387</th>\n",
       "      <td>38520</td>\n",
       "      <td>Female</td>\n",
       "      <td>42</td>\n",
       "      <td>19417</td>\n",
       "      <td>10439790</td>\n",
       "      <td>Card</td>\n",
       "      <td>43107</td>\n",
       "      <td>Yellow Cab</td>\n",
       "      <td>SEATTLE WA</td>\n",
       "      <td>16.66</td>\n",
       "      <td>261.18</td>\n",
       "      <td>213.9144</td>\n",
       "      <td>47.2656</td>\n",
       "    </tr>\n",
       "    <tr>\n",
       "      <th>359388</th>\n",
       "      <td>12490</td>\n",
       "      <td>Male</td>\n",
       "      <td>33</td>\n",
       "      <td>18713</td>\n",
       "      <td>10439799</td>\n",
       "      <td>Cash</td>\n",
       "      <td>43103</td>\n",
       "      <td>Yellow Cab</td>\n",
       "      <td>SILICON VALLEY</td>\n",
       "      <td>13.72</td>\n",
       "      <td>277.97</td>\n",
       "      <td>172.8720</td>\n",
       "      <td>105.0980</td>\n",
       "    </tr>\n",
       "    <tr>\n",
       "      <th>359389</th>\n",
       "      <td>41414</td>\n",
       "      <td>Male</td>\n",
       "      <td>38</td>\n",
       "      <td>3960</td>\n",
       "      <td>10439838</td>\n",
       "      <td>Card</td>\n",
       "      <td>43104</td>\n",
       "      <td>Yellow Cab</td>\n",
       "      <td>TUCSON AZ</td>\n",
       "      <td>19.00</td>\n",
       "      <td>303.77</td>\n",
       "      <td>232.5600</td>\n",
       "      <td>71.2100</td>\n",
       "    </tr>\n",
       "    <tr>\n",
       "      <th>359390</th>\n",
       "      <td>41677</td>\n",
       "      <td>Male</td>\n",
       "      <td>23</td>\n",
       "      <td>19454</td>\n",
       "      <td>10439840</td>\n",
       "      <td>Cash</td>\n",
       "      <td>43106</td>\n",
       "      <td>Yellow Cab</td>\n",
       "      <td>TUCSON AZ</td>\n",
       "      <td>5.60</td>\n",
       "      <td>92.42</td>\n",
       "      <td>70.5600</td>\n",
       "      <td>21.8600</td>\n",
       "    </tr>\n",
       "    <tr>\n",
       "      <th>359391</th>\n",
       "      <td>39761</td>\n",
       "      <td>Female</td>\n",
       "      <td>32</td>\n",
       "      <td>10128</td>\n",
       "      <td>10439846</td>\n",
       "      <td>Card</td>\n",
       "      <td>43104</td>\n",
       "      <td>Yellow Cab</td>\n",
       "      <td>TUCSON AZ</td>\n",
       "      <td>13.30</td>\n",
       "      <td>244.65</td>\n",
       "      <td>180.3480</td>\n",
       "      <td>64.3020</td>\n",
       "    </tr>\n",
       "  </tbody>\n",
       "</table>\n",
       "<p>359392 rows × 13 columns</p>\n",
       "</div>"
      ],
      "text/plain": [
       "          CID  Gender  Age  Income       TID Payment_Mode   Date     Company  \\\n",
       "0       29290    Male   28   10813  10000011         Card  42377    Pink Cab   \n",
       "1       29290    Male   28   10813  10351127         Cash  43302  Yellow Cab   \n",
       "2       29290    Male   28   10813  10412921         Card  43427  Yellow Cab   \n",
       "3       27703    Male   27    9237  10000012         Card  42375    Pink Cab   \n",
       "4       27703    Male   27    9237  10320494         Card  43211  Yellow Cab   \n",
       "...       ...     ...  ...     ...       ...          ...    ...         ...   \n",
       "359387  38520  Female   42   19417  10439790         Card  43107  Yellow Cab   \n",
       "359388  12490    Male   33   18713  10439799         Cash  43103  Yellow Cab   \n",
       "359389  41414    Male   38    3960  10439838         Card  43104  Yellow Cab   \n",
       "359390  41677    Male   23   19454  10439840         Cash  43106  Yellow Cab   \n",
       "359391  39761  Female   32   10128  10439846         Card  43104  Yellow Cab   \n",
       "\n",
       "                  City  KM_Travelled  Price_Charged  Cost_of_Trip    Profit  \n",
       "0           ATLANTA GA         30.45         370.95      313.6350   57.3150  \n",
       "1           ATLANTA GA         26.19         598.70      317.4228  281.2772  \n",
       "2           ATLANTA GA         42.55         792.05      597.4020  194.6480  \n",
       "3           ATLANTA GA         28.62         358.52      334.8540   23.6660  \n",
       "4           ATLANTA GA         36.38         721.10      467.1192  253.9808  \n",
       "...                ...           ...            ...           ...       ...  \n",
       "359387      SEATTLE WA         16.66         261.18      213.9144   47.2656  \n",
       "359388  SILICON VALLEY         13.72         277.97      172.8720  105.0980  \n",
       "359389       TUCSON AZ         19.00         303.77      232.5600   71.2100  \n",
       "359390       TUCSON AZ          5.60          92.42       70.5600   21.8600  \n",
       "359391       TUCSON AZ         13.30         244.65      180.3480   64.3020  \n",
       "\n",
       "[359392 rows x 13 columns]"
      ]
     },
     "execution_count": 27,
     "metadata": {},
     "output_type": "execute_result"
    }
   ],
   "source": [
    "#Adding in a profit column\n",
    "data_merged['Profit'] = data_merged.apply(lambda row: row.Price_Charged - row.Cost_of_Trip, axis=1)\n",
    "data_merged"
   ]
  },
  {
   "cell_type": "code",
   "execution_count": 38,
   "id": "15cc5c96",
   "metadata": {},
   "outputs": [
    {
     "data": {
      "image/png": "[encoded data removed]",
      "text/plain": [
       "<Figure size 454.6x360 with 1 Axes>"
      ]
     },
     "metadata": {},
     "output_type": "display_data"
    }
   ],
   "source": [
    "#distance travelled vs profit\n",
    "ax = sns.lmplot(x=\"KM_Travelled\", y=\"Profit\", hue=\"Company\", data=data_merged, palette=\"hls\")\n"
   ]
  },
  {
   "cell_type": "markdown",
   "id": "57018625",
   "metadata": {},
   "source": [
    "#### This graph shows that the Yellow Cab company makes significantly more profit as distance travelled increases."
   ]
  },
  {
   "cell_type": "markdown",
   "id": "b360f017",
   "metadata": {},
   "source": [
    "#### Convert the date from xlrd format to datetime to find seasonality comparisons"
   ]
  },
  {
   "cell_type": "code",
   "execution_count": 28,
   "id": "494d6680",
   "metadata": {},
   "outputs": [],
   "source": [
    "data_merged['Date'] = pd.to_datetime(data_merged['Date'], unit='D', origin='1899-12-30')"
   ]
  },
  {
   "cell_type": "code",
   "execution_count": 17,
   "id": "09f8dccc",
   "metadata": {},
   "outputs": [
    {
     "data": {
      "text/html": [
       "<div>\n",
       "<style scoped>\n",
       "    .dataframe tbody tr th:only-of-type {\n",
       "        vertical-align: middle;\n",
       "    }\n",
       "\n",
       "    .dataframe tbody tr th {\n",
       "        vertical-align: top;\n",
       "    }\n",
       "\n",
       "    .dataframe thead th {\n",
       "        text-align: right;\n",
       "    }\n",
       "</style>\n",
       "<table border=\"1\" class=\"dataframe\">\n",
       "  <thead>\n",
       "    <tr style=\"text-align: right;\">\n",
       "      <th></th>\n",
       "      <th>CID</th>\n",
       "      <th>Gender</th>\n",
       "      <th>Age</th>\n",
       "      <th>Income</th>\n",
       "      <th>TID</th>\n",
       "      <th>Payment_Mode</th>\n",
       "      <th>Date</th>\n",
       "      <th>Company</th>\n",
       "      <th>City</th>\n",
       "      <th>KM_Travelled</th>\n",
       "      <th>Price_Charged</th>\n",
       "      <th>Cost_of_Trip</th>\n",
       "      <th>Profit</th>\n",
       "    </tr>\n",
       "  </thead>\n",
       "  <tbody>\n",
       "    <tr>\n",
       "      <th>0</th>\n",
       "      <td>29290</td>\n",
       "      <td>Male</td>\n",
       "      <td>28</td>\n",
       "      <td>10813</td>\n",
       "      <td>10000011</td>\n",
       "      <td>Card</td>\n",
       "      <td>2016-01-08</td>\n",
       "      <td>Pink Cab</td>\n",
       "      <td>ATLANTA GA</td>\n",
       "      <td>30.45</td>\n",
       "      <td>370.95</td>\n",
       "      <td>313.6350</td>\n",
       "      <td>57.3150</td>\n",
       "    </tr>\n",
       "    <tr>\n",
       "      <th>1</th>\n",
       "      <td>29290</td>\n",
       "      <td>Male</td>\n",
       "      <td>28</td>\n",
       "      <td>10813</td>\n",
       "      <td>10351127</td>\n",
       "      <td>Cash</td>\n",
       "      <td>2018-07-21</td>\n",
       "      <td>Yellow Cab</td>\n",
       "      <td>ATLANTA GA</td>\n",
       "      <td>26.19</td>\n",
       "      <td>598.70</td>\n",
       "      <td>317.4228</td>\n",
       "      <td>281.2772</td>\n",
       "    </tr>\n",
       "    <tr>\n",
       "      <th>2</th>\n",
       "      <td>29290</td>\n",
       "      <td>Male</td>\n",
       "      <td>28</td>\n",
       "      <td>10813</td>\n",
       "      <td>10412921</td>\n",
       "      <td>Card</td>\n",
       "      <td>2018-11-23</td>\n",
       "      <td>Yellow Cab</td>\n",
       "      <td>ATLANTA GA</td>\n",
       "      <td>42.55</td>\n",
       "      <td>792.05</td>\n",
       "      <td>597.4020</td>\n",
       "      <td>194.6480</td>\n",
       "    </tr>\n",
       "    <tr>\n",
       "      <th>3</th>\n",
       "      <td>27703</td>\n",
       "      <td>Male</td>\n",
       "      <td>27</td>\n",
       "      <td>9237</td>\n",
       "      <td>10000012</td>\n",
       "      <td>Card</td>\n",
       "      <td>2016-01-06</td>\n",
       "      <td>Pink Cab</td>\n",
       "      <td>ATLANTA GA</td>\n",
       "      <td>28.62</td>\n",
       "      <td>358.52</td>\n",
       "      <td>334.8540</td>\n",
       "      <td>23.6660</td>\n",
       "    </tr>\n",
       "    <tr>\n",
       "      <th>4</th>\n",
       "      <td>27703</td>\n",
       "      <td>Male</td>\n",
       "      <td>27</td>\n",
       "      <td>9237</td>\n",
       "      <td>10320494</td>\n",
       "      <td>Card</td>\n",
       "      <td>2018-04-21</td>\n",
       "      <td>Yellow Cab</td>\n",
       "      <td>ATLANTA GA</td>\n",
       "      <td>36.38</td>\n",
       "      <td>721.10</td>\n",
       "      <td>467.1192</td>\n",
       "      <td>253.9808</td>\n",
       "    </tr>\n",
       "    <tr>\n",
       "      <th>...</th>\n",
       "      <td>...</td>\n",
       "      <td>...</td>\n",
       "      <td>...</td>\n",
       "      <td>...</td>\n",
       "      <td>...</td>\n",
       "      <td>...</td>\n",
       "      <td>...</td>\n",
       "      <td>...</td>\n",
       "      <td>...</td>\n",
       "      <td>...</td>\n",
       "      <td>...</td>\n",
       "      <td>...</td>\n",
       "      <td>...</td>\n",
       "    </tr>\n",
       "    <tr>\n",
       "      <th>359387</th>\n",
       "      <td>38520</td>\n",
       "      <td>Female</td>\n",
       "      <td>42</td>\n",
       "      <td>19417</td>\n",
       "      <td>10439790</td>\n",
       "      <td>Card</td>\n",
       "      <td>2018-01-07</td>\n",
       "      <td>Yellow Cab</td>\n",
       "      <td>SEATTLE WA</td>\n",
       "      <td>16.66</td>\n",
       "      <td>261.18</td>\n",
       "      <td>213.9144</td>\n",
       "      <td>47.2656</td>\n",
       "    </tr>\n",
       "    <tr>\n",
       "      <th>359388</th>\n",
       "      <td>12490</td>\n",
       "      <td>Male</td>\n",
       "      <td>33</td>\n",
       "      <td>18713</td>\n",
       "      <td>10439799</td>\n",
       "      <td>Cash</td>\n",
       "      <td>2018-01-03</td>\n",
       "      <td>Yellow Cab</td>\n",
       "      <td>SILICON VALLEY</td>\n",
       "      <td>13.72</td>\n",
       "      <td>277.97</td>\n",
       "      <td>172.8720</td>\n",
       "      <td>105.0980</td>\n",
       "    </tr>\n",
       "    <tr>\n",
       "      <th>359389</th>\n",
       "      <td>41414</td>\n",
       "      <td>Male</td>\n",
       "      <td>38</td>\n",
       "      <td>3960</td>\n",
       "      <td>10439838</td>\n",
       "      <td>Card</td>\n",
       "      <td>2018-01-04</td>\n",
       "      <td>Yellow Cab</td>\n",
       "      <td>TUCSON AZ</td>\n",
       "      <td>19.00</td>\n",
       "      <td>303.77</td>\n",
       "      <td>232.5600</td>\n",
       "      <td>71.2100</td>\n",
       "    </tr>\n",
       "    <tr>\n",
       "      <th>359390</th>\n",
       "      <td>41677</td>\n",
       "      <td>Male</td>\n",
       "      <td>23</td>\n",
       "      <td>19454</td>\n",
       "      <td>10439840</td>\n",
       "      <td>Cash</td>\n",
       "      <td>2018-01-06</td>\n",
       "      <td>Yellow Cab</td>\n",
       "      <td>TUCSON AZ</td>\n",
       "      <td>5.60</td>\n",
       "      <td>92.42</td>\n",
       "      <td>70.5600</td>\n",
       "      <td>21.8600</td>\n",
       "    </tr>\n",
       "    <tr>\n",
       "      <th>359391</th>\n",
       "      <td>39761</td>\n",
       "      <td>Female</td>\n",
       "      <td>32</td>\n",
       "      <td>10128</td>\n",
       "      <td>10439846</td>\n",
       "      <td>Card</td>\n",
       "      <td>2018-01-04</td>\n",
       "      <td>Yellow Cab</td>\n",
       "      <td>TUCSON AZ</td>\n",
       "      <td>13.30</td>\n",
       "      <td>244.65</td>\n",
       "      <td>180.3480</td>\n",
       "      <td>64.3020</td>\n",
       "    </tr>\n",
       "  </tbody>\n",
       "</table>\n",
       "<p>359392 rows × 13 columns</p>\n",
       "</div>"
      ],
      "text/plain": [
       "          CID  Gender  Age  Income       TID Payment_Mode       Date  \\\n",
       "0       29290    Male   28   10813  10000011         Card 2016-01-08   \n",
       "1       29290    Male   28   10813  10351127         Cash 2018-07-21   \n",
       "2       29290    Male   28   10813  10412921         Card 2018-11-23   \n",
       "3       27703    Male   27    9237  10000012         Card 2016-01-06   \n",
       "4       27703    Male   27    9237  10320494         Card 2018-04-21   \n",
       "...       ...     ...  ...     ...       ...          ...        ...   \n",
       "359387  38520  Female   42   19417  10439790         Card 2018-01-07   \n",
       "359388  12490    Male   33   18713  10439799         Cash 2018-01-03   \n",
       "359389  41414    Male   38    3960  10439838         Card 2018-01-04   \n",
       "359390  41677    Male   23   19454  10439840         Cash 2018-01-06   \n",
       "359391  39761  Female   32   10128  10439846         Card 2018-01-04   \n",
       "\n",
       "           Company            City  KM_Travelled  Price_Charged  Cost_of_Trip  \\\n",
       "0         Pink Cab      ATLANTA GA         30.45         370.95      313.6350   \n",
       "1       Yellow Cab      ATLANTA GA         26.19         598.70      317.4228   \n",
       "2       Yellow Cab      ATLANTA GA         42.55         792.05      597.4020   \n",
       "3         Pink Cab      ATLANTA GA         28.62         358.52      334.8540   \n",
       "4       Yellow Cab      ATLANTA GA         36.38         721.10      467.1192   \n",
       "...            ...             ...           ...            ...           ...   \n",
       "359387  Yellow Cab      SEATTLE WA         16.66         261.18      213.9144   \n",
       "359388  Yellow Cab  SILICON VALLEY         13.72         277.97      172.8720   \n",
       "359389  Yellow Cab       TUCSON AZ         19.00         303.77      232.5600   \n",
       "359390  Yellow Cab       TUCSON AZ          5.60          92.42       70.5600   \n",
       "359391  Yellow Cab       TUCSON AZ         13.30         244.65      180.3480   \n",
       "\n",
       "          Profit  \n",
       "0        57.3150  \n",
       "1       281.2772  \n",
       "2       194.6480  \n",
       "3        23.6660  \n",
       "4       253.9808  \n",
       "...          ...  \n",
       "359387   47.2656  \n",
       "359388  105.0980  \n",
       "359389   71.2100  \n",
       "359390   21.8600  \n",
       "359391   64.3020  \n",
       "\n",
       "[359392 rows x 13 columns]"
      ]
     },
     "execution_count": 17,
     "metadata": {},
     "output_type": "execute_result"
    }
   ],
   "source": [
    "data_merged"
   ]
  },
  {
   "cell_type": "code",
   "execution_count": 14,
   "id": "9d265d16",
   "metadata": {},
   "outputs": [
    {
     "name": "stderr",
     "output_type": "stream",
     "text": [
      "C:\\Users\\kfiel\\AppData\\Local\\Temp\\ipykernel_5484\\4055315063.py:1: FutureWarning: Indexing with multiple keys (implicitly converted to a tuple of keys) will be deprecated, use a list instead.\n",
      "  yearly_groups = data_merged.groupby(data_merged.Date.dt.year)['Company', 'Profit']\n"
     ]
    }
   ],
   "source": [
    "yearly_groups = data_merged.groupby(data_merged.Date.dt.year)['Company', 'Profit']"
   ]
  },
  {
   "cell_type": "code",
   "execution_count": 15,
   "id": "d977b816",
   "metadata": {},
   "outputs": [],
   "source": [
    "yearly_profit = data_merged.groupby(data_merged['Date'].dt.year).agg({'Profit': sum})\n"
   ]
  },
  {
   "cell_type": "code",
   "execution_count": 29,
   "id": "fb29c1bc",
   "metadata": {},
   "outputs": [],
   "source": [
    "yellow_cab_data = data_merged.loc[data_merged['Company'] == 'Yellow Cab']\n",
    "pink_cab_data = data_merged.loc[data_merged['Company'] == 'Pink Cab']"
   ]
  },
  {
   "cell_type": "code",
   "execution_count": 30,
   "id": "12a37adc",
   "metadata": {},
   "outputs": [
    {
     "data": {
      "text/html": [
       "<div>\n",
       "<style scoped>\n",
       "    .dataframe tbody tr th:only-of-type {\n",
       "        vertical-align: middle;\n",
       "    }\n",
       "\n",
       "    .dataframe tbody tr th {\n",
       "        vertical-align: top;\n",
       "    }\n",
       "\n",
       "    .dataframe thead th {\n",
       "        text-align: right;\n",
       "    }\n",
       "</style>\n",
       "<table border=\"1\" class=\"dataframe\">\n",
       "  <thead>\n",
       "    <tr style=\"text-align: right;\">\n",
       "      <th></th>\n",
       "      <th>Profit</th>\n",
       "    </tr>\n",
       "    <tr>\n",
       "      <th>Date</th>\n",
       "      <th></th>\n",
       "    </tr>\n",
       "  </thead>\n",
       "  <tbody>\n",
       "    <tr>\n",
       "      <th>2016</th>\n",
       "      <td>1.392700e+07</td>\n",
       "    </tr>\n",
       "    <tr>\n",
       "      <th>2017</th>\n",
       "      <td>1.657598e+07</td>\n",
       "    </tr>\n",
       "    <tr>\n",
       "      <th>2018</th>\n",
       "      <td>1.351740e+07</td>\n",
       "    </tr>\n",
       "  </tbody>\n",
       "</table>\n",
       "</div>"
      ],
      "text/plain": [
       "            Profit\n",
       "Date              \n",
       "2016  1.392700e+07\n",
       "2017  1.657598e+07\n",
       "2018  1.351740e+07"
      ]
     },
     "execution_count": 30,
     "metadata": {},
     "output_type": "execute_result"
    }
   ],
   "source": [
    "yellow_yearly_profit = yellow_cab_data.groupby(data_merged['Date'].dt.year).agg({'Profit': sum})\n",
    "pink_yearly_profit = pink_cab_data.groupby(data_merged['Date'].dt.year).agg({'Profit': sum})\n",
    "\n",
    "yellow_yearly_profit.head()\n"
   ]
  },
  {
   "cell_type": "code",
   "execution_count": 85,
   "id": "4a80149f",
   "metadata": {},
   "outputs": [
    {
     "data": {
      "text/html": [
       "<div>\n",
       "<style scoped>\n",
       "    .dataframe tbody tr th:only-of-type {\n",
       "        vertical-align: middle;\n",
       "    }\n",
       "\n",
       "    .dataframe tbody tr th {\n",
       "        vertical-align: top;\n",
       "    }\n",
       "\n",
       "    .dataframe thead th {\n",
       "        text-align: right;\n",
       "    }\n",
       "</style>\n",
       "<table border=\"1\" class=\"dataframe\">\n",
       "  <thead>\n",
       "    <tr style=\"text-align: right;\">\n",
       "      <th></th>\n",
       "      <th>Profit</th>\n",
       "    </tr>\n",
       "    <tr>\n",
       "      <th>Date</th>\n",
       "      <th></th>\n",
       "    </tr>\n",
       "  </thead>\n",
       "  <tbody>\n",
       "    <tr>\n",
       "      <th>2016</th>\n",
       "      <td>1713511.224</td>\n",
       "    </tr>\n",
       "    <tr>\n",
       "      <th>2017</th>\n",
       "      <td>2033654.908</td>\n",
       "    </tr>\n",
       "    <tr>\n",
       "      <th>2018</th>\n",
       "      <td>1560162.189</td>\n",
       "    </tr>\n",
       "  </tbody>\n",
       "</table>\n",
       "</div>"
      ],
      "text/plain": [
       "           Profit\n",
       "Date             \n",
       "2016  1713511.224\n",
       "2017  2033654.908\n",
       "2018  1560162.189"
      ]
     },
     "execution_count": 85,
     "metadata": {},
     "output_type": "execute_result"
    }
   ],
   "source": [
    "pink_yearly_profit.head()"
   ]
  },
  {
   "cell_type": "code",
   "execution_count": 91,
   "id": "88c2acce",
   "metadata": {},
   "outputs": [
    {
     "data": {
      "text/plain": [
       "<AxesSubplot:xlabel='Date', ylabel='Profit'>"
      ]
     },
     "execution_count": 91,
     "metadata": {},
     "output_type": "execute_result"
    },
    {
     "data": {
      "image/png": "[encoded data removed]",
      "text/plain": [
       "<Figure size 360x360 with 1 Axes>"
      ]
     },
     "metadata": {},
     "output_type": "display_data"
    }
   ],
   "source": [
    "fig, ax = plt.subplots(figsize=(5, 5))\n",
    "\n",
    "sns.lineplot(data=yellow_yearly_profit, x='Date', y='Profit', label='Yellow Cab', ax=ax)\n",
    "sns.lineplot(data=pink_yearly_profit, x='Date', y='Profit', label='Pink Cab', ax=ax)\n",
    "\n"
   ]
  },
  {
   "cell_type": "markdown",
   "id": "582995a7",
   "metadata": {},
   "source": [
    "#### Which company maximizes cab users at particular time periods?"
   ]
  },
  {
   "cell_type": "code",
   "execution_count": 23,
   "id": "e424da61",
   "metadata": {},
   "outputs": [
    {
     "data": {
      "text/plain": [
       "dtype('<M8[ns]')"
      ]
     },
     "execution_count": 23,
     "metadata": {},
     "output_type": "execute_result"
    }
   ],
   "source": [
    "yellow_cab_data['Date'].dtype"
   ]
  },
  {
   "cell_type": "code",
   "execution_count": 31,
   "id": "87dbac3f",
   "metadata": {},
   "outputs": [],
   "source": [
    "yellow_monthly = yellow_cab_data.groupby((yellow_cab_data['Date'].dt.month))['CID'].nunique()\n",
    "pink_monthly = pink_cab_data.groupby((pink_cab_data['Date'].dt.month))['CID'].nunique()"
   ]
  },
  {
   "cell_type": "code",
   "execution_count": 27,
   "id": "fd63962b",
   "metadata": {},
   "outputs": [
    {
     "data": {
      "text/plain": [
       "Date\n",
       "1     12012\n",
       "2     10371\n",
       "3     11535\n",
       "4     11607\n",
       "5     12147\n",
       "6     12332\n",
       "7     13188\n",
       "8     14197\n",
       "9     15458\n",
       "10    16232\n",
       "11    16550\n",
       "12    17526\n",
       "Name: CID, dtype: int64"
      ]
     },
     "execution_count": 27,
     "metadata": {},
     "output_type": "execute_result"
    }
   ],
   "source": [
    "yellow_monthly"
   ]
  },
  {
   "cell_type": "code",
   "execution_count": 24,
   "id": "36b6fa53",
   "metadata": {},
   "outputs": [
    {
     "data": {
      "text/plain": [
       "count      12.000000\n",
       "mean     6031.750000\n",
       "std      2204.265952\n",
       "min      3176.000000\n",
       "25%      4295.500000\n",
       "50%      5482.000000\n",
       "75%      8162.000000\n",
       "max      9275.000000\n",
       "Name: CID, dtype: float64"
      ]
     },
     "execution_count": 24,
     "metadata": {},
     "output_type": "execute_result"
    }
   ],
   "source": [
    "pink_monthly.describe()"
   ]
  },
  {
   "cell_type": "code",
   "execution_count": 30,
   "id": "2f181448",
   "metadata": {},
   "outputs": [],
   "source": [
    "cab_monthly = [yellow_monthly, pink_monthly]\n",
    "result = pd.concat(cab_monthly)"
   ]
  },
  {
   "cell_type": "code",
   "execution_count": 32,
   "id": "15fea0cd",
   "metadata": {},
   "outputs": [],
   "source": [
    "df1 = pink_monthly.to_frame()\n"
   ]
  },
  {
   "cell_type": "code",
   "execution_count": 33,
   "id": "87eac389",
   "metadata": {},
   "outputs": [],
   "source": [
    "df2 = yellow_monthly.to_frame()"
   ]
  },
  {
   "cell_type": "code",
   "execution_count": 34,
   "id": "4e3f9834",
   "metadata": {
    "scrolled": false
   },
   "outputs": [
    {
     "data": {
      "text/html": [
       "<div>\n",
       "<style scoped>\n",
       "    .dataframe tbody tr th:only-of-type {\n",
       "        vertical-align: middle;\n",
       "    }\n",
       "\n",
       "    .dataframe tbody tr th {\n",
       "        vertical-align: top;\n",
       "    }\n",
       "\n",
       "    .dataframe thead th {\n",
       "        text-align: right;\n",
       "    }\n",
       "</style>\n",
       "<table border=\"1\" class=\"dataframe\">\n",
       "  <thead>\n",
       "    <tr style=\"text-align: right;\">\n",
       "      <th></th>\n",
       "      <th>Date</th>\n",
       "      <th>CID</th>\n",
       "      <th>col</th>\n",
       "    </tr>\n",
       "  </thead>\n",
       "  <tbody>\n",
       "    <tr>\n",
       "      <th>0</th>\n",
       "      <td>1</td>\n",
       "      <td>4607</td>\n",
       "      <td>0</td>\n",
       "    </tr>\n",
       "    <tr>\n",
       "      <th>1</th>\n",
       "      <td>2</td>\n",
       "      <td>3176</td>\n",
       "      <td>0</td>\n",
       "    </tr>\n",
       "    <tr>\n",
       "      <th>2</th>\n",
       "      <td>3</td>\n",
       "      <td>3874</td>\n",
       "      <td>0</td>\n",
       "    </tr>\n",
       "    <tr>\n",
       "      <th>3</th>\n",
       "      <td>4</td>\n",
       "      <td>3786</td>\n",
       "      <td>0</td>\n",
       "    </tr>\n",
       "    <tr>\n",
       "      <th>4</th>\n",
       "      <td>5</td>\n",
       "      <td>4436</td>\n",
       "      <td>0</td>\n",
       "    </tr>\n",
       "    <tr>\n",
       "      <th>5</th>\n",
       "      <td>6</td>\n",
       "      <td>5227</td>\n",
       "      <td>0</td>\n",
       "    </tr>\n",
       "    <tr>\n",
       "      <th>6</th>\n",
       "      <td>7</td>\n",
       "      <td>5737</td>\n",
       "      <td>0</td>\n",
       "    </tr>\n",
       "    <tr>\n",
       "      <th>7</th>\n",
       "      <td>8</td>\n",
       "      <td>6638</td>\n",
       "      <td>0</td>\n",
       "    </tr>\n",
       "    <tr>\n",
       "      <th>8</th>\n",
       "      <td>9</td>\n",
       "      <td>7988</td>\n",
       "      <td>0</td>\n",
       "    </tr>\n",
       "    <tr>\n",
       "      <th>9</th>\n",
       "      <td>10</td>\n",
       "      <td>8684</td>\n",
       "      <td>0</td>\n",
       "    </tr>\n",
       "    <tr>\n",
       "      <th>10</th>\n",
       "      <td>11</td>\n",
       "      <td>8953</td>\n",
       "      <td>0</td>\n",
       "    </tr>\n",
       "    <tr>\n",
       "      <th>11</th>\n",
       "      <td>12</td>\n",
       "      <td>9275</td>\n",
       "      <td>0</td>\n",
       "    </tr>\n",
       "    <tr>\n",
       "      <th>12</th>\n",
       "      <td>1</td>\n",
       "      <td>12012</td>\n",
       "      <td>1</td>\n",
       "    </tr>\n",
       "    <tr>\n",
       "      <th>13</th>\n",
       "      <td>2</td>\n",
       "      <td>10371</td>\n",
       "      <td>1</td>\n",
       "    </tr>\n",
       "    <tr>\n",
       "      <th>14</th>\n",
       "      <td>3</td>\n",
       "      <td>11535</td>\n",
       "      <td>1</td>\n",
       "    </tr>\n",
       "    <tr>\n",
       "      <th>15</th>\n",
       "      <td>4</td>\n",
       "      <td>11607</td>\n",
       "      <td>1</td>\n",
       "    </tr>\n",
       "    <tr>\n",
       "      <th>16</th>\n",
       "      <td>5</td>\n",
       "      <td>12147</td>\n",
       "      <td>1</td>\n",
       "    </tr>\n",
       "    <tr>\n",
       "      <th>17</th>\n",
       "      <td>6</td>\n",
       "      <td>12332</td>\n",
       "      <td>1</td>\n",
       "    </tr>\n",
       "    <tr>\n",
       "      <th>18</th>\n",
       "      <td>7</td>\n",
       "      <td>13188</td>\n",
       "      <td>1</td>\n",
       "    </tr>\n",
       "    <tr>\n",
       "      <th>19</th>\n",
       "      <td>8</td>\n",
       "      <td>14197</td>\n",
       "      <td>1</td>\n",
       "    </tr>\n",
       "    <tr>\n",
       "      <th>20</th>\n",
       "      <td>9</td>\n",
       "      <td>15458</td>\n",
       "      <td>1</td>\n",
       "    </tr>\n",
       "    <tr>\n",
       "      <th>21</th>\n",
       "      <td>10</td>\n",
       "      <td>16232</td>\n",
       "      <td>1</td>\n",
       "    </tr>\n",
       "    <tr>\n",
       "      <th>22</th>\n",
       "      <td>11</td>\n",
       "      <td>16550</td>\n",
       "      <td>1</td>\n",
       "    </tr>\n",
       "    <tr>\n",
       "      <th>23</th>\n",
       "      <td>12</td>\n",
       "      <td>17526</td>\n",
       "      <td>1</td>\n",
       "    </tr>\n",
       "  </tbody>\n",
       "</table>\n",
       "</div>"
      ],
      "text/plain": [
       "    Date    CID  col\n",
       "0      1   4607    0\n",
       "1      2   3176    0\n",
       "2      3   3874    0\n",
       "3      4   3786    0\n",
       "4      5   4436    0\n",
       "5      6   5227    0\n",
       "6      7   5737    0\n",
       "7      8   6638    0\n",
       "8      9   7988    0\n",
       "9     10   8684    0\n",
       "10    11   8953    0\n",
       "11    12   9275    0\n",
       "12     1  12012    1\n",
       "13     2  10371    1\n",
       "14     3  11535    1\n",
       "15     4  11607    1\n",
       "16     5  12147    1\n",
       "17     6  12332    1\n",
       "18     7  13188    1\n",
       "19     8  14197    1\n",
       "20     9  15458    1\n",
       "21    10  16232    1\n",
       "22    11  16550    1\n",
       "23    12  17526    1"
      ]
     },
     "execution_count": 34,
     "metadata": {},
     "output_type": "execute_result"
    }
   ],
   "source": [
    "df = pd.concat([df1,df2], axis=0, ignore_index=False)\n",
    "df['col'] = (len(df1)*(0,) + len(df2)*(1,))\n",
    "df.reset_index(inplace=True)\n",
    "df"
   ]
  },
  {
   "cell_type": "code",
   "execution_count": 64,
   "id": "7b0e6a76",
   "metadata": {},
   "outputs": [
    {
     "name": "stderr",
     "output_type": "stream",
     "text": [
      "E:\\anaconda\\lib\\site-packages\\seaborn\\categorical.py:3717: UserWarning: The `factorplot` function has been renamed to `catplot`. The original name will be removed in a future release. Please update your code. Note that the default `kind` in `factorplot` (`'point'`) has changed `'strip'` in `catplot`.\n",
      "  warnings.warn(msg)\n"
     ]
    },
    {
     "data": {
      "image/png": "[encoded data removed]",
      "text/plain": [
       "<Figure size 405.725x360 with 1 Axes>"
      ]
     },
     "metadata": {},
     "output_type": "display_data"
    }
   ],
   "source": [
    "g = sns.factorplot(x='Date', y='CID', hue='col', kind='bar', data=df)\n",
    "\n",
    "new_title = \"Monthly cab users\"\n",
    "g._legend.set_title(new_title)\n",
    "new_labels = ['Yellow Cab', 'Pink Cab']\n",
    "for t, l in zip(g._legend.texts, new_labels):\n",
    "    t.set_text(l)"
   ]
  },
  {
   "cell_type": "markdown",
   "id": "04c70687",
   "metadata": {},
   "source": [
    "#### Next we will get the average users across the whole year for each company and see which one has the highest percentage of increase for the peak months (oct-dec)"
   ]
  },
  {
   "cell_type": "code",
   "execution_count": 35,
   "id": "6597a781",
   "metadata": {},
   "outputs": [],
   "source": [
    "pink_avg_users = df1[\"CID\"].mean()"
   ]
  },
  {
   "cell_type": "code",
   "execution_count": 36,
   "id": "1f7c3b2c",
   "metadata": {},
   "outputs": [],
   "source": [
    "yellow_avg_users = df2[\"CID\"].mean()"
   ]
  },
  {
   "cell_type": "code",
   "execution_count": 37,
   "id": "99497afc",
   "metadata": {},
   "outputs": [
    {
     "data": {
      "text/plain": [
       "array([[4607],\n",
       "       [3176],\n",
       "       [3874],\n",
       "       [3786],\n",
       "       [4436],\n",
       "       [5227],\n",
       "       [5737],\n",
       "       [6638],\n",
       "       [7988],\n",
       "       [8684],\n",
       "       [8953],\n",
       "       [9275]], dtype=int64)"
      ]
     },
     "execution_count": 37,
     "metadata": {},
     "output_type": "execute_result"
    }
   ],
   "source": [
    "pink_nums = df1.values\n",
    "pink_nums"
   ]
  },
  {
   "cell_type": "code",
   "execution_count": 75,
   "id": "46e5b68d",
   "metadata": {},
   "outputs": [],
   "source": [
    "pct_chg_pink = []\n",
    "for num in pink_nums:\n",
    "    pct_chg_pink.append(((num[0]-pink_avg_users)/pink_avg_users) * 100)"
   ]
  },
  {
   "cell_type": "code",
   "execution_count": 76,
   "id": "d3dbc2e5",
   "metadata": {},
   "outputs": [
    {
     "data": {
      "text/plain": [
       "[-23.620839723131763,\n",
       " -47.34529779914619,\n",
       " -35.773200149210425,\n",
       " -37.232146557798316,\n",
       " -26.45583785800141,\n",
       " -13.341899117171632,\n",
       " -4.886641521946367,\n",
       " 10.05098022961827,\n",
       " 32.43254445227339,\n",
       " 43.97148422928669,\n",
       " 48.43121813735649,\n",
       " 53.769635677871264]"
      ]
     },
     "execution_count": 76,
     "metadata": {},
     "output_type": "execute_result"
    }
   ],
   "source": [
    "pct_chg_pink"
   ]
  },
  {
   "cell_type": "code",
   "execution_count": 78,
   "id": "818965d3",
   "metadata": {},
   "outputs": [
    {
     "data": {
      "text/plain": [
       "[-11.652109956789555,\n",
       " -23.721614415739634,\n",
       " -15.160430265698263,\n",
       " -14.630872483221477,\n",
       " -10.659189114645583,\n",
       " -9.298519812448285,\n",
       " -3.002666176335387,\n",
       " 4.418497747540682,\n",
       " 13.693113910085502,\n",
       " 19.38586007171095,\n",
       " 21.72474027765009,\n",
       " 28.903190217890963]"
      ]
     },
     "execution_count": 78,
     "metadata": {},
     "output_type": "execute_result"
    }
   ],
   "source": [
    "yellow_nums = df2.values\n",
    "pct_chg_yellow = []\n",
    "for num in yellow_nums:\n",
    "    pct_chg_yellow.append(((num[0]-yellow_avg_users)/yellow_avg_users) * 100)\n",
    "pct_chg_yellow"
   ]
  },
  {
   "cell_type": "code",
   "execution_count": 79,
   "id": "ba4332f2",
   "metadata": {},
   "outputs": [
    {
     "data": {
      "text/plain": [
       "list"
      ]
     },
     "execution_count": 79,
     "metadata": {},
     "output_type": "execute_result"
    }
   ],
   "source": [
    "type(pct_chg_pink)"
   ]
  },
  {
   "cell_type": "code",
   "execution_count": 80,
   "id": "2dde53ba",
   "metadata": {},
   "outputs": [],
   "source": [
    "months = [\"January\", \"February\", \"March\", \"April\", \"May\", \"June\", \"July\", \"August\",\n",
    "          \"September\", \"October\", \"November\", \"December\"]"
   ]
  },
  {
   "cell_type": "code",
   "execution_count": 82,
   "id": "455f0806",
   "metadata": {},
   "outputs": [],
   "source": [
    "df = pd.DataFrame({'Month':months, 'Yellow':np.reshape(pct_chg_yellow, 12, order='F'),\n",
    "                  'Pink':np.reshape(pct_chg_pink, 12, order='F')})"
   ]
  },
  {
   "cell_type": "code",
   "execution_count": 83,
   "id": "596a8487",
   "metadata": {},
   "outputs": [
    {
     "data": {
      "text/html": [
       "<div>\n",
       "<style scoped>\n",
       "    .dataframe tbody tr th:only-of-type {\n",
       "        vertical-align: middle;\n",
       "    }\n",
       "\n",
       "    .dataframe tbody tr th {\n",
       "        vertical-align: top;\n",
       "    }\n",
       "\n",
       "    .dataframe thead th {\n",
       "        text-align: right;\n",
       "    }\n",
       "</style>\n",
       "<table border=\"1\" class=\"dataframe\">\n",
       "  <thead>\n",
       "    <tr style=\"text-align: right;\">\n",
       "      <th></th>\n",
       "      <th>Month</th>\n",
       "      <th>Yellow</th>\n",
       "      <th>Pink</th>\n",
       "    </tr>\n",
       "  </thead>\n",
       "  <tbody>\n",
       "    <tr>\n",
       "      <th>0</th>\n",
       "      <td>January</td>\n",
       "      <td>-11.652110</td>\n",
       "      <td>-23.620840</td>\n",
       "    </tr>\n",
       "    <tr>\n",
       "      <th>1</th>\n",
       "      <td>February</td>\n",
       "      <td>-23.721614</td>\n",
       "      <td>-47.345298</td>\n",
       "    </tr>\n",
       "    <tr>\n",
       "      <th>2</th>\n",
       "      <td>March</td>\n",
       "      <td>-15.160430</td>\n",
       "      <td>-35.773200</td>\n",
       "    </tr>\n",
       "    <tr>\n",
       "      <th>3</th>\n",
       "      <td>April</td>\n",
       "      <td>-14.630872</td>\n",
       "      <td>-37.232147</td>\n",
       "    </tr>\n",
       "    <tr>\n",
       "      <th>4</th>\n",
       "      <td>May</td>\n",
       "      <td>-10.659189</td>\n",
       "      <td>-26.455838</td>\n",
       "    </tr>\n",
       "  </tbody>\n",
       "</table>\n",
       "</div>"
      ],
      "text/plain": [
       "      Month     Yellow       Pink\n",
       "0   January -11.652110 -23.620840\n",
       "1  February -23.721614 -47.345298\n",
       "2     March -15.160430 -35.773200\n",
       "3     April -14.630872 -37.232147\n",
       "4       May -10.659189 -26.455838"
      ]
     },
     "execution_count": 83,
     "metadata": {},
     "output_type": "execute_result"
    }
   ],
   "source": [
    "df.head()"
   ]
  },
  {
   "cell_type": "code",
   "execution_count": 86,
   "id": "4c996e03",
   "metadata": {},
   "outputs": [],
   "source": [
    "dfm = df.melt('Month', var_name='cols', value_name='vals')"
   ]
  },
  {
   "cell_type": "code",
   "execution_count": 88,
   "id": "faa1a3c4",
   "metadata": {},
   "outputs": [
    {
     "data": {
      "image/png": "[encoded data removed]",
      "text/plain": [
       "<Figure size 431.225x360 with 1 Axes>"
      ]
     },
     "metadata": {},
     "output_type": "display_data"
    }
   ],
   "source": [
    "g = sns.catplot(x=\"Month\", y=\"vals\", hue='cols', data=dfm, kind='point')"
   ]
  },
  {
   "cell_type": "markdown",
   "id": "df335b17",
   "metadata": {},
   "source": [
    "#### This plot shows the pct change versus their average for each month. The pink company has the largest increase in volume during peak months (Oct - Dec), but also the biggest decrease during the slow months of january-may."
   ]
  },
  {
   "cell_type": "markdown",
   "id": "ee01d3e9",
   "metadata": {},
   "source": [
    "#### Next we will compare profits to the increase in cab users."
   ]
  },
  {
   "cell_type": "code",
   "execution_count": 89,
   "id": "33fb7e3a",
   "metadata": {},
   "outputs": [],
   "source": [
    "yellow_monthly_profit = yellow_cab_data.groupby(data_merged['Date'].dt.month).agg({'Profit': sum})\n",
    "pink_monthly_profit = pink_cab_data.groupby(data_merged['Date'].dt.month).agg({'Profit': sum})"
   ]
  },
  {
   "cell_type": "code",
   "execution_count": 93,
   "id": "95bba94c",
   "metadata": {},
   "outputs": [],
   "source": [
    "yellow_avg_prof = yellow_monthly_profit['Profit'].mean()\n",
    "pink_avg_prof = pink_monthly_profit['Profit'].mean()"
   ]
  },
  {
   "cell_type": "code",
   "execution_count": 95,
   "id": "1f02c560",
   "metadata": {},
   "outputs": [],
   "source": [
    "yellow_nums = yellow_monthly_profit.values\n",
    "pink_nums = pink_monthly_profit.values\n",
    "\n",
    "pct_prof_chg_pink = []\n",
    "pct_prof_chg_yellow = []\n",
    "\n",
    "for num in pink_nums:\n",
    "    pct_prof_chg_pink.append(((num[0]-pink_avg_prof)/pink_avg_prof) * 100)\n",
    "    \n",
    "for num in yellow_nums:\n",
    "    pct_prof_chg_yellow.append(((num[0]-yellow_avg_prof)/yellow_avg_prof) * 100)"
   ]
  },
  {
   "cell_type": "code",
   "execution_count": 97,
   "id": "e1c53a98",
   "metadata": {},
   "outputs": [
    {
     "data": {
      "image/png": "[encoded data removed]",
      "text/plain": [
       "<Figure size 431.225x360 with 1 Axes>"
      ]
     },
     "metadata": {},
     "output_type": "display_data"
    }
   ],
   "source": [
    "df = pd.DataFrame({'Month':months, 'Yellow':np.reshape(pct_prof_chg_yellow, 12, order='F'),\n",
    "                  'Pink':np.reshape(pct_prof_chg_pink, 12, order='F')})\n",
    "dfm = df.melt('Month', var_name='cols', value_name='Profit Pct Change')\n",
    "g = sns.catplot(x=\"Month\", y=\"Profit Pct Change\", hue='cols', data=dfm, kind='point')\n"
   ]
  },
  {
   "cell_type": "markdown",
   "id": "82dae450",
   "metadata": {},
   "source": [
    "#### Pink Cab company utilizes the busy period more effectively than yellow cab, however, yellow cab is more consistent across the entire year, even during the slow period."
   ]
  },
  {
   "cell_type": "code",
   "execution_count": 13,
   "id": "52147cb8",
   "metadata": {},
   "outputs": [
    {
     "data": {
      "text/html": [
       "<div>\n",
       "<style scoped>\n",
       "    .dataframe tbody tr th:only-of-type {\n",
       "        vertical-align: middle;\n",
       "    }\n",
       "\n",
       "    .dataframe tbody tr th {\n",
       "        vertical-align: top;\n",
       "    }\n",
       "\n",
       "    .dataframe thead th {\n",
       "        text-align: right;\n",
       "    }\n",
       "</style>\n",
       "<table border=\"1\" class=\"dataframe\">\n",
       "  <thead>\n",
       "    <tr style=\"text-align: right;\">\n",
       "      <th></th>\n",
       "      <th>CID</th>\n",
       "      <th>Gender</th>\n",
       "      <th>Age</th>\n",
       "      <th>Income</th>\n",
       "      <th>TID</th>\n",
       "      <th>Payment_Mode</th>\n",
       "      <th>Date</th>\n",
       "      <th>Company</th>\n",
       "      <th>City</th>\n",
       "      <th>KM_Travelled</th>\n",
       "      <th>Price_Charged</th>\n",
       "      <th>Cost_of_Trip</th>\n",
       "      <th>Profit</th>\n",
       "    </tr>\n",
       "  </thead>\n",
       "  <tbody>\n",
       "    <tr>\n",
       "      <th>0</th>\n",
       "      <td>29290</td>\n",
       "      <td>Male</td>\n",
       "      <td>28</td>\n",
       "      <td>10813</td>\n",
       "      <td>10000011</td>\n",
       "      <td>Card</td>\n",
       "      <td>2016-01-08</td>\n",
       "      <td>Pink Cab</td>\n",
       "      <td>ATLANTA GA</td>\n",
       "      <td>30.45</td>\n",
       "      <td>370.95</td>\n",
       "      <td>313.6350</td>\n",
       "      <td>57.3150</td>\n",
       "    </tr>\n",
       "    <tr>\n",
       "      <th>1</th>\n",
       "      <td>29290</td>\n",
       "      <td>Male</td>\n",
       "      <td>28</td>\n",
       "      <td>10813</td>\n",
       "      <td>10351127</td>\n",
       "      <td>Cash</td>\n",
       "      <td>2018-07-21</td>\n",
       "      <td>Yellow Cab</td>\n",
       "      <td>ATLANTA GA</td>\n",
       "      <td>26.19</td>\n",
       "      <td>598.70</td>\n",
       "      <td>317.4228</td>\n",
       "      <td>281.2772</td>\n",
       "    </tr>\n",
       "    <tr>\n",
       "      <th>2</th>\n",
       "      <td>29290</td>\n",
       "      <td>Male</td>\n",
       "      <td>28</td>\n",
       "      <td>10813</td>\n",
       "      <td>10412921</td>\n",
       "      <td>Card</td>\n",
       "      <td>2018-11-23</td>\n",
       "      <td>Yellow Cab</td>\n",
       "      <td>ATLANTA GA</td>\n",
       "      <td>42.55</td>\n",
       "      <td>792.05</td>\n",
       "      <td>597.4020</td>\n",
       "      <td>194.6480</td>\n",
       "    </tr>\n",
       "    <tr>\n",
       "      <th>3</th>\n",
       "      <td>27703</td>\n",
       "      <td>Male</td>\n",
       "      <td>27</td>\n",
       "      <td>9237</td>\n",
       "      <td>10000012</td>\n",
       "      <td>Card</td>\n",
       "      <td>2016-01-06</td>\n",
       "      <td>Pink Cab</td>\n",
       "      <td>ATLANTA GA</td>\n",
       "      <td>28.62</td>\n",
       "      <td>358.52</td>\n",
       "      <td>334.8540</td>\n",
       "      <td>23.6660</td>\n",
       "    </tr>\n",
       "    <tr>\n",
       "      <th>4</th>\n",
       "      <td>27703</td>\n",
       "      <td>Male</td>\n",
       "      <td>27</td>\n",
       "      <td>9237</td>\n",
       "      <td>10320494</td>\n",
       "      <td>Card</td>\n",
       "      <td>2018-04-21</td>\n",
       "      <td>Yellow Cab</td>\n",
       "      <td>ATLANTA GA</td>\n",
       "      <td>36.38</td>\n",
       "      <td>721.10</td>\n",
       "      <td>467.1192</td>\n",
       "      <td>253.9808</td>\n",
       "    </tr>\n",
       "  </tbody>\n",
       "</table>\n",
       "</div>"
      ],
      "text/plain": [
       "     CID Gender  Age  Income       TID Payment_Mode       Date     Company  \\\n",
       "0  29290   Male   28   10813  10000011         Card 2016-01-08    Pink Cab   \n",
       "1  29290   Male   28   10813  10351127         Cash 2018-07-21  Yellow Cab   \n",
       "2  29290   Male   28   10813  10412921         Card 2018-11-23  Yellow Cab   \n",
       "3  27703   Male   27    9237  10000012         Card 2016-01-06    Pink Cab   \n",
       "4  27703   Male   27    9237  10320494         Card 2018-04-21  Yellow Cab   \n",
       "\n",
       "         City  KM_Travelled  Price_Charged  Cost_of_Trip    Profit  \n",
       "0  ATLANTA GA         30.45         370.95      313.6350   57.3150  \n",
       "1  ATLANTA GA         26.19         598.70      317.4228  281.2772  \n",
       "2  ATLANTA GA         42.55         792.05      597.4020  194.6480  \n",
       "3  ATLANTA GA         28.62         358.52      334.8540   23.6660  \n",
       "4  ATLANTA GA         36.38         721.10      467.1192  253.9808  "
      ]
     },
     "execution_count": 13,
     "metadata": {},
     "output_type": "execute_result"
    }
   ],
   "source": [
    "data_merged.head()"
   ]
  },
  {
   "cell_type": "code",
   "execution_count": 38,
   "id": "62ad21ec",
   "metadata": {},
   "outputs": [
    {
     "data": {
      "text/html": [
       "<div>\n",
       "<style scoped>\n",
       "    .dataframe tbody tr th:only-of-type {\n",
       "        vertical-align: middle;\n",
       "    }\n",
       "\n",
       "    .dataframe tbody tr th {\n",
       "        vertical-align: top;\n",
       "    }\n",
       "\n",
       "    .dataframe thead th {\n",
       "        text-align: right;\n",
       "    }\n",
       "</style>\n",
       "<table border=\"1\" class=\"dataframe\">\n",
       "  <thead>\n",
       "    <tr style=\"text-align: right;\">\n",
       "      <th></th>\n",
       "      <th>CID</th>\n",
       "      <th>Gender</th>\n",
       "      <th>Age</th>\n",
       "      <th>Income</th>\n",
       "      <th>Payment_Mode</th>\n",
       "      <th>City</th>\n",
       "      <th>Profit</th>\n",
       "    </tr>\n",
       "  </thead>\n",
       "  <tbody>\n",
       "    <tr>\n",
       "      <th>0</th>\n",
       "      <td>29290</td>\n",
       "      <td>Male</td>\n",
       "      <td>28</td>\n",
       "      <td>10813</td>\n",
       "      <td>Card</td>\n",
       "      <td>ATLANTA GA</td>\n",
       "      <td>57.3150</td>\n",
       "    </tr>\n",
       "    <tr>\n",
       "      <th>1</th>\n",
       "      <td>29290</td>\n",
       "      <td>Male</td>\n",
       "      <td>28</td>\n",
       "      <td>10813</td>\n",
       "      <td>Cash</td>\n",
       "      <td>ATLANTA GA</td>\n",
       "      <td>281.2772</td>\n",
       "    </tr>\n",
       "    <tr>\n",
       "      <th>2</th>\n",
       "      <td>29290</td>\n",
       "      <td>Male</td>\n",
       "      <td>28</td>\n",
       "      <td>10813</td>\n",
       "      <td>Card</td>\n",
       "      <td>ATLANTA GA</td>\n",
       "      <td>194.6480</td>\n",
       "    </tr>\n",
       "    <tr>\n",
       "      <th>3</th>\n",
       "      <td>27703</td>\n",
       "      <td>Male</td>\n",
       "      <td>27</td>\n",
       "      <td>9237</td>\n",
       "      <td>Card</td>\n",
       "      <td>ATLANTA GA</td>\n",
       "      <td>23.6660</td>\n",
       "    </tr>\n",
       "    <tr>\n",
       "      <th>4</th>\n",
       "      <td>27703</td>\n",
       "      <td>Male</td>\n",
       "      <td>27</td>\n",
       "      <td>9237</td>\n",
       "      <td>Card</td>\n",
       "      <td>ATLANTA GA</td>\n",
       "      <td>253.9808</td>\n",
       "    </tr>\n",
       "  </tbody>\n",
       "</table>\n",
       "</div>"
      ],
      "text/plain": [
       "     CID Gender  Age  Income Payment_Mode        City    Profit\n",
       "0  29290   Male   28   10813         Card  ATLANTA GA   57.3150\n",
       "1  29290   Male   28   10813         Cash  ATLANTA GA  281.2772\n",
       "2  29290   Male   28   10813         Card  ATLANTA GA  194.6480\n",
       "3  27703   Male   27    9237         Card  ATLANTA GA   23.6660\n",
       "4  27703   Male   27    9237         Card  ATLANTA GA  253.9808"
      ]
     },
     "execution_count": 38,
     "metadata": {},
     "output_type": "execute_result"
    }
   ],
   "source": [
    "customer_data = data_merged[[\"CID\", \"Gender\", \"Age\", \"Income\", \"Payment_Mode\", \"City\", \"Profit\"]]\n",
    "customer_data.head()"
   ]
  },
  {
   "cell_type": "markdown",
   "id": "4ebfc225",
   "metadata": {},
   "source": [
    "### Analyze based on Customer Base Demographics\n"
   ]
  },
  {
   "cell_type": "code",
   "execution_count": 39,
   "id": "d74ae76e",
   "metadata": {},
   "outputs": [
    {
     "data": {
      "text/plain": [
       "count    359392.000000\n",
       "mean      15048.822937\n",
       "std        7969.409482\n",
       "min        2000.000000\n",
       "25%        8424.000000\n",
       "50%       14685.000000\n",
       "75%       21035.000000\n",
       "max       35000.000000\n",
       "Name: Income, dtype: float64"
      ]
     },
     "execution_count": 39,
     "metadata": {},
     "output_type": "execute_result"
    }
   ],
   "source": [
    "customer_data['Income'].describe()"
   ]
  },
  {
   "cell_type": "markdown",
   "id": "46d398d4",
   "metadata": {},
   "source": [
    "#### We see the quartile values here, and will split groups among them to see profit based on income."
   ]
  },
  {
   "cell_type": "code",
   "execution_count": 22,
   "id": "be31625d",
   "metadata": {},
   "outputs": [],
   "source": [
    "lower_class = customer_data.loc[customer_data['Income'] < 8500]\n",
    "middle_class = customer_data.loc[(customer_data['Income'] >= 8500) & (customer_data['Income'] <= 21000)]\n",
    "upper_class = customer_data.loc[customer_data['Income'] > 21000]"
   ]
  },
  {
   "cell_type": "code",
   "execution_count": 23,
   "id": "9e5f07fd",
   "metadata": {},
   "outputs": [
    {
     "data": {
      "text/html": [
       "<div>\n",
       "<style scoped>\n",
       "    .dataframe tbody tr th:only-of-type {\n",
       "        vertical-align: middle;\n",
       "    }\n",
       "\n",
       "    .dataframe tbody tr th {\n",
       "        vertical-align: top;\n",
       "    }\n",
       "\n",
       "    .dataframe thead th {\n",
       "        text-align: right;\n",
       "    }\n",
       "</style>\n",
       "<table border=\"1\" class=\"dataframe\">\n",
       "  <thead>\n",
       "    <tr style=\"text-align: right;\">\n",
       "      <th></th>\n",
       "      <th>CID</th>\n",
       "      <th>Age</th>\n",
       "      <th>Income</th>\n",
       "      <th>Profit</th>\n",
       "    </tr>\n",
       "  </thead>\n",
       "  <tbody>\n",
       "    <tr>\n",
       "      <th>count</th>\n",
       "      <td>178114.000000</td>\n",
       "      <td>178114.000000</td>\n",
       "      <td>178114.000000</td>\n",
       "      <td>178114.000000</td>\n",
       "    </tr>\n",
       "    <tr>\n",
       "      <th>mean</th>\n",
       "      <td>19036.253916</td>\n",
       "      <td>35.296069</td>\n",
       "      <td>14729.001151</td>\n",
       "      <td>138.292671</td>\n",
       "    </tr>\n",
       "    <tr>\n",
       "      <th>std</th>\n",
       "      <td>20970.541707</td>\n",
       "      <td>12.589103</td>\n",
       "      <td>3599.017115</td>\n",
       "      <td>161.187299</td>\n",
       "    </tr>\n",
       "    <tr>\n",
       "      <th>min</th>\n",
       "      <td>1.000000</td>\n",
       "      <td>18.000000</td>\n",
       "      <td>8500.000000</td>\n",
       "      <td>-220.060000</td>\n",
       "    </tr>\n",
       "    <tr>\n",
       "      <th>25%</th>\n",
       "      <td>2688.000000</td>\n",
       "      <td>25.000000</td>\n",
       "      <td>11655.000000</td>\n",
       "      <td>28.188500</td>\n",
       "    </tr>\n",
       "    <tr>\n",
       "      <th>50%</th>\n",
       "      <td>7340.000000</td>\n",
       "      <td>33.000000</td>\n",
       "      <td>14703.000000</td>\n",
       "      <td>82.718200</td>\n",
       "    </tr>\n",
       "    <tr>\n",
       "      <th>75%</th>\n",
       "      <td>35611.750000</td>\n",
       "      <td>42.000000</td>\n",
       "      <td>17820.000000</td>\n",
       "      <td>191.488500</td>\n",
       "    </tr>\n",
       "    <tr>\n",
       "      <th>max</th>\n",
       "      <td>60000.000000</td>\n",
       "      <td>65.000000</td>\n",
       "      <td>21000.000000</td>\n",
       "      <td>1463.966000</td>\n",
       "    </tr>\n",
       "  </tbody>\n",
       "</table>\n",
       "</div>"
      ],
      "text/plain": [
       "                 CID            Age         Income         Profit\n",
       "count  178114.000000  178114.000000  178114.000000  178114.000000\n",
       "mean    19036.253916      35.296069   14729.001151     138.292671\n",
       "std     20970.541707      12.589103    3599.017115     161.187299\n",
       "min         1.000000      18.000000    8500.000000    -220.060000\n",
       "25%      2688.000000      25.000000   11655.000000      28.188500\n",
       "50%      7340.000000      33.000000   14703.000000      82.718200\n",
       "75%     35611.750000      42.000000   17820.000000     191.488500\n",
       "max     60000.000000      65.000000   21000.000000    1463.966000"
      ]
     },
     "execution_count": 23,
     "metadata": {},
     "output_type": "execute_result"
    }
   ],
   "source": []
  },
  {
   "cell_type": "code",
   "execution_count": 25,
   "id": "85d1670a",
   "metadata": {},
   "outputs": [],
   "source": [
    "profit_class = [lower_class['Profit'].mean(), middle_class['Profit'].mean(), upper_class['Profit'].mean()]"
   ]
  },
  {
   "cell_type": "code",
   "execution_count": 27,
   "id": "19ef28c6",
   "metadata": {},
   "outputs": [
    {
     "name": "stderr",
     "output_type": "stream",
     "text": [
      "E:\\anaconda\\lib\\site-packages\\seaborn\\_decorators.py:36: FutureWarning: Pass the following variables as keyword args: x, y. From version 0.12, the only valid positional argument will be `data`, and passing other arguments without an explicit keyword will result in an error or misinterpretation.\n",
      "  warnings.warn(\n"
     ]
    },
    {
     "data": {
      "image/png": "[encoded data removed]",
      "text/plain": [
       "<Figure size 432x288 with 1 Axes>"
      ]
     },
     "metadata": {},
     "output_type": "display_data"
    }
   ],
   "source": [
    "classes = ['Lower (<8500)', 'Middle(8500 - 21000)', 'Upper (>21000)']\n",
    "sns.barplot(classes, profit_class)\n",
    "plt.show()"
   ]
  },
  {
   "cell_type": "markdown",
   "id": "69ebf1f0",
   "metadata": {},
   "source": [
    "#### Average profit of each class is very similar\n",
    "\n",
    "Next we will check by city"
   ]
  },
  {
   "cell_type": "code",
   "execution_count": 37,
   "id": "8e08ec6c",
   "metadata": {},
   "outputs": [],
   "source": [
    "unique_city_prof = customer_data.groupby(['City'], as_index=False)['Profit'].sum()"
   ]
  },
  {
   "cell_type": "code",
   "execution_count": 39,
   "id": "9e4c0b7d",
   "metadata": {},
   "outputs": [
    {
     "data": {
      "text/html": [
       "<div>\n",
       "<style scoped>\n",
       "    .dataframe tbody tr th:only-of-type {\n",
       "        vertical-align: middle;\n",
       "    }\n",
       "\n",
       "    .dataframe tbody tr th {\n",
       "        vertical-align: top;\n",
       "    }\n",
       "\n",
       "    .dataframe thead th {\n",
       "        text-align: right;\n",
       "    }\n",
       "</style>\n",
       "<table border=\"1\" class=\"dataframe\">\n",
       "  <thead>\n",
       "    <tr style=\"text-align: right;\">\n",
       "      <th></th>\n",
       "      <th>City</th>\n",
       "      <th>Profit</th>\n",
       "    </tr>\n",
       "  </thead>\n",
       "  <tbody>\n",
       "    <tr>\n",
       "      <th>0</th>\n",
       "      <td>ATLANTA GA</td>\n",
       "      <td>8.424329e+05</td>\n",
       "    </tr>\n",
       "    <tr>\n",
       "      <th>1</th>\n",
       "      <td>AUSTIN TX</td>\n",
       "      <td>5.267010e+05</td>\n",
       "    </tr>\n",
       "    <tr>\n",
       "      <th>2</th>\n",
       "      <td>BOSTON MA</td>\n",
       "      <td>1.768719e+06</td>\n",
       "    </tr>\n",
       "    <tr>\n",
       "      <th>3</th>\n",
       "      <td>CHICAGO IL</td>\n",
       "      <td>3.387313e+06</td>\n",
       "    </tr>\n",
       "    <tr>\n",
       "      <th>4</th>\n",
       "      <td>DALLAS TX</td>\n",
       "      <td>1.128733e+06</td>\n",
       "    </tr>\n",
       "  </tbody>\n",
       "</table>\n",
       "</div>"
      ],
      "text/plain": [
       "         City        Profit\n",
       "0  ATLANTA GA  8.424329e+05\n",
       "1   AUSTIN TX  5.267010e+05\n",
       "2   BOSTON MA  1.768719e+06\n",
       "3  CHICAGO IL  3.387313e+06\n",
       "4   DALLAS TX  1.128733e+06"
      ]
     },
     "execution_count": 39,
     "metadata": {},
     "output_type": "execute_result"
    }
   ],
   "source": [
    "unique_city_prof.head()"
   ]
  },
  {
   "cell_type": "code",
   "execution_count": 42,
   "id": "49d56cd6",
   "metadata": {},
   "outputs": [
    {
     "data": {
      "image/png": "[encoded data removed]",
      "text/plain": [
       "<Figure size 432x288 with 1 Axes>"
      ]
     },
     "metadata": {},
     "output_type": "display_data"
    }
   ],
   "source": [
    "ax = sns.barplot(x='City', y='Profit', data=unique_city_prof)\n",
    "ax.set_xticklabels(ax.get_xticklabels(), rotation=40, ha=\"right\")\n",
    "plt.tight_layout()\n",
    "plt.show()\n"
   ]
  },
  {
   "cell_type": "code",
   "execution_count": 43,
   "id": "9744737d",
   "metadata": {},
   "outputs": [],
   "source": [
    "unique_city_info = pd.merge(city_data, unique_city_prof, on='City')"
   ]
  },
  {
   "cell_type": "code",
   "execution_count": 44,
   "id": "be22335e",
   "metadata": {},
   "outputs": [
    {
     "data": {
      "text/html": [
       "<div>\n",
       "<style scoped>\n",
       "    .dataframe tbody tr th:only-of-type {\n",
       "        vertical-align: middle;\n",
       "    }\n",
       "\n",
       "    .dataframe tbody tr th {\n",
       "        vertical-align: top;\n",
       "    }\n",
       "\n",
       "    .dataframe thead th {\n",
       "        text-align: right;\n",
       "    }\n",
       "</style>\n",
       "<table border=\"1\" class=\"dataframe\">\n",
       "  <thead>\n",
       "    <tr style=\"text-align: right;\">\n",
       "      <th></th>\n",
       "      <th>City</th>\n",
       "      <th>Population</th>\n",
       "      <th>Users</th>\n",
       "      <th>Profit</th>\n",
       "    </tr>\n",
       "  </thead>\n",
       "  <tbody>\n",
       "    <tr>\n",
       "      <th>0</th>\n",
       "      <td>NEW YORK NY</td>\n",
       "      <td>8,405,837</td>\n",
       "      <td>302,149</td>\n",
       "      <td>2.796256e+07</td>\n",
       "    </tr>\n",
       "    <tr>\n",
       "      <th>1</th>\n",
       "      <td>CHICAGO IL</td>\n",
       "      <td>1,955,130</td>\n",
       "      <td>164,468</td>\n",
       "      <td>3.387313e+06</td>\n",
       "    </tr>\n",
       "    <tr>\n",
       "      <th>2</th>\n",
       "      <td>LOS ANGELES CA</td>\n",
       "      <td>1,595,037</td>\n",
       "      <td>144,132</td>\n",
       "      <td>4.411709e+06</td>\n",
       "    </tr>\n",
       "    <tr>\n",
       "      <th>3</th>\n",
       "      <td>MIAMI FL</td>\n",
       "      <td>1,339,155</td>\n",
       "      <td>17,675</td>\n",
       "      <td>7.583012e+05</td>\n",
       "    </tr>\n",
       "    <tr>\n",
       "      <th>4</th>\n",
       "      <td>SILICON VALLEY</td>\n",
       "      <td>1,177,609</td>\n",
       "      <td>27,247</td>\n",
       "      <td>1.316705e+06</td>\n",
       "    </tr>\n",
       "  </tbody>\n",
       "</table>\n",
       "</div>"
      ],
      "text/plain": [
       "             City   Population      Users        Profit\n",
       "0     NEW YORK NY   8,405,837    302,149   2.796256e+07\n",
       "1      CHICAGO IL   1,955,130    164,468   3.387313e+06\n",
       "2  LOS ANGELES CA   1,595,037    144,132   4.411709e+06\n",
       "3        MIAMI FL   1,339,155     17,675   7.583012e+05\n",
       "4  SILICON VALLEY   1,177,609     27,247   1.316705e+06"
      ]
     },
     "execution_count": 44,
     "metadata": {},
     "output_type": "execute_result"
    }
   ],
   "source": [
    "unique_city_info.head()"
   ]
  },
  {
   "cell_type": "code",
   "execution_count": 52,
   "id": "dab20cf5",
   "metadata": {},
   "outputs": [
    {
     "name": "stdout",
     "output_type": "stream",
     "text": [
      "City           object\n",
      "Population     object\n",
      "Users          object\n",
      "Profit        float64\n",
      "dtype: object\n"
     ]
    }
   ],
   "source": [
    "print(unique_city_info.dtypes)"
   ]
  },
  {
   "cell_type": "code",
   "execution_count": 55,
   "id": "c2d98242",
   "metadata": {},
   "outputs": [
    {
     "data": {
      "text/html": [
       "<div>\n",
       "<style scoped>\n",
       "    .dataframe tbody tr th:only-of-type {\n",
       "        vertical-align: middle;\n",
       "    }\n",
       "\n",
       "    .dataframe tbody tr th {\n",
       "        vertical-align: top;\n",
       "    }\n",
       "\n",
       "    .dataframe thead th {\n",
       "        text-align: right;\n",
       "    }\n",
       "</style>\n",
       "<table border=\"1\" class=\"dataframe\">\n",
       "  <thead>\n",
       "    <tr style=\"text-align: right;\">\n",
       "      <th></th>\n",
       "      <th>City</th>\n",
       "      <th>Population</th>\n",
       "      <th>Users</th>\n",
       "      <th>Profit</th>\n",
       "      <th>Profit_Per_User</th>\n",
       "    </tr>\n",
       "  </thead>\n",
       "  <tbody>\n",
       "    <tr>\n",
       "      <th>0</th>\n",
       "      <td>NEW YORK NY</td>\n",
       "      <td>8,405,837</td>\n",
       "      <td>302149.0</td>\n",
       "      <td>2.796256e+07</td>\n",
       "      <td>92.545582</td>\n",
       "    </tr>\n",
       "    <tr>\n",
       "      <th>1</th>\n",
       "      <td>CHICAGO IL</td>\n",
       "      <td>1,955,130</td>\n",
       "      <td>164468.0</td>\n",
       "      <td>3.387313e+06</td>\n",
       "      <td>20.595577</td>\n",
       "    </tr>\n",
       "    <tr>\n",
       "      <th>2</th>\n",
       "      <td>LOS ANGELES CA</td>\n",
       "      <td>1,595,037</td>\n",
       "      <td>144132.0</td>\n",
       "      <td>4.411709e+06</td>\n",
       "      <td>30.608808</td>\n",
       "    </tr>\n",
       "    <tr>\n",
       "      <th>3</th>\n",
       "      <td>MIAMI FL</td>\n",
       "      <td>1,339,155</td>\n",
       "      <td>17675.0</td>\n",
       "      <td>7.583012e+05</td>\n",
       "      <td>42.902475</td>\n",
       "    </tr>\n",
       "    <tr>\n",
       "      <th>4</th>\n",
       "      <td>SILICON VALLEY</td>\n",
       "      <td>1,177,609</td>\n",
       "      <td>27247.0</td>\n",
       "      <td>1.316705e+06</td>\n",
       "      <td>48.324780</td>\n",
       "    </tr>\n",
       "  </tbody>\n",
       "</table>\n",
       "</div>"
      ],
      "text/plain": [
       "             City   Population     Users        Profit  Profit_Per_User\n",
       "0     NEW YORK NY   8,405,837   302149.0  2.796256e+07        92.545582\n",
       "1      CHICAGO IL   1,955,130   164468.0  3.387313e+06        20.595577\n",
       "2  LOS ANGELES CA   1,595,037   144132.0  4.411709e+06        30.608808\n",
       "3        MIAMI FL   1,339,155    17675.0  7.583012e+05        42.902475\n",
       "4  SILICON VALLEY   1,177,609    27247.0  1.316705e+06        48.324780"
      ]
     },
     "execution_count": 55,
     "metadata": {},
     "output_type": "execute_result"
    }
   ],
   "source": [
    "unique_city_info['Users'] = unique_city_info['Users'].apply(lambda x: float(x.split()[0].replace(',', '')))\n",
    "unique_city_info['Users'] = unique_city_info['Users'].astype(float)\n",
    "unique_city_info['Profit_Per_User'] = unique_city_info['Profit']/unique_city_info['Users']\n",
    "unique_city_info.head()"
   ]
  },
  {
   "cell_type": "code",
   "execution_count": 56,
   "id": "c5ab14d2",
   "metadata": {},
   "outputs": [
    {
     "data": {
      "image/png": "[encoded data removed]",
      "text/plain": [
       "<Figure size 432x288 with 1 Axes>"
      ]
     },
     "metadata": {},
     "output_type": "display_data"
    }
   ],
   "source": [
    "ax = sns.barplot(x='City', y='Profit_Per_User', data=unique_city_info)\n",
    "ax.set_xticklabels(ax.get_xticklabels(), rotation=40, ha=\"right\")\n",
    "plt.tight_layout()\n",
    "plt.show()\n"
   ]
  },
  {
   "cell_type": "code",
   "execution_count": 40,
   "id": "12b97faf",
   "metadata": {},
   "outputs": [],
   "source": [
    "compdf = data_merged.groupby([\"Company\", \"City\"])[\"CID\"].count()"
   ]
  },
  {
   "cell_type": "code",
   "execution_count": 41,
   "id": "23e5a088",
   "metadata": {},
   "outputs": [],
   "source": [
    "compdf = compdf.to_frame()"
   ]
  },
  {
   "cell_type": "code",
   "execution_count": 47,
   "id": "dec83cac",
   "metadata": {},
   "outputs": [],
   "source": []
  },
  {
   "cell_type": "code",
   "execution_count": 59,
   "id": "f6270244",
   "metadata": {},
   "outputs": [
    {
     "data": {
      "image/png": "[encoded data removed]",
      "text/plain": [
       "<Figure size 432x288 with 1 Axes>"
      ]
     },
     "metadata": {},
     "output_type": "display_data"
    }
   ],
   "source": [
    "ax = compdf.unstack(level=0).plot(kind='bar')\n",
    "plt.xticks(rotation=45, ha='right')\n",
    "plt.ylim(top = 90000)\n",
    "plt.title(\"Company Users in Cities\")\n",
    "plt.tight_layout()\n",
    "plt.show()"
   ]
  },
  {
   "cell_type": "markdown",
   "id": "d2b79757",
   "metadata": {},
   "source": [
    "From the data, Yellow has more users in all but 3 cities, Nashville, San Diego, and Sacramento"
   ]
  },
  {
   "cell_type": "markdown",
   "id": "34445249",
   "metadata": {},
   "source": [
    "### Now lets check cab customer retention rate"
   ]
  },
  {
   "cell_type": "markdown",
   "id": "b4b0643c",
   "metadata": {},
   "source": [
    "First we will find how many times a customer used the same company more than 5, and 10 times. After we find them, we will see if these users used the opposite company at all."
   ]
  },
  {
   "cell_type": "code",
   "execution_count": 73,
   "id": "bb0e0f8c",
   "metadata": {},
   "outputs": [
    {
     "data": {
      "text/plain": [
       "pandas.core.frame.DataFrame"
      ]
     },
     "execution_count": 73,
     "metadata": {},
     "output_type": "execute_result"
    }
   ],
   "source": [
    "custID_compdf = data_merged[[\"CID\", \"Company\"]]\n"
   ]
  },
  {
   "cell_type": "code",
   "execution_count": 76,
   "id": "f457c40b",
   "metadata": {},
   "outputs": [],
   "source": [
    "custId_group = custID_compdf.groupby([\"Company\"])\n",
    "yellow_custs = custId_group.get_group('Yellow Cab')\n",
    "pink_custs = custId_group.get_group('Pink Cab')"
   ]
  },
  {
   "cell_type": "code",
   "execution_count": 92,
   "id": "3f9c16a1",
   "metadata": {},
   "outputs": [],
   "source": [
    "yellow_repeat_count = yellow_custs['CID'].value_counts()"
   ]
  },
  {
   "cell_type": "code",
   "execution_count": 79,
   "id": "595196a8",
   "metadata": {},
   "outputs": [],
   "source": [
    "pink_repeat_count = pink_custs['CID'].value_counts()"
   ]
  },
  {
   "cell_type": "code",
   "execution_count": 94,
   "id": "744f78ea",
   "metadata": {},
   "outputs": [],
   "source": [
    "yellow_repeat_count = pd.Series.to_frame(yellow_repeat_count)\n",
    "\n",
    "yellow_repeat_count['id'] = list(yellow_repeat_count.index)"
   ]
  },
  {
   "cell_type": "code",
   "execution_count": 101,
   "id": "63585977",
   "metadata": {},
   "outputs": [],
   "source": [
    "pink_repeat_count = pd.Series.to_frame(pink_repeat_count)\n",
    "\n",
    "pink_repeat_count['id'] = list(pink_repeat_count.index)"
   ]
  },
  {
   "cell_type": "code",
   "execution_count": 99,
   "id": "0d0b5661",
   "metadata": {},
   "outputs": [],
   "source": [
    "#Getting index of yellow_cab customers who used yellow cab more than 5 and 10 times\n",
    "yell_list_5 = yellow_repeat_count.loc[yellow_repeat_count['CID'] >= 5, 'id']\n",
    "yell_list_10 = yellow_repeat_count.loc[yellow_repeat_count['CID'] >= 10, 'id']"
   ]
  },
  {
   "cell_type": "code",
   "execution_count": 102,
   "id": "bca75e0c",
   "metadata": {},
   "outputs": [],
   "source": [
    "pink_list_5 = pink_repeat_count.loc[pink_repeat_count['CID'] >= 5, 'id']\n",
    "pink_list_10 = pink_repeat_count.loc[pink_repeat_count['CID'] >= 10, 'id']"
   ]
  },
  {
   "cell_type": "markdown",
   "id": "69c345ac",
   "metadata": {},
   "source": [
    "Percentage of each companies users that use the same cab at least 5 and 10 times"
   ]
  },
  {
   "cell_type": "code",
   "execution_count": 108,
   "id": "e4e4f74e",
   "metadata": {},
   "outputs": [],
   "source": [
    "five_pct_yellow = len(yell_list_5) / len(yellow_repeat_count)\n",
    "ten_pct_yellow = len(yell_list_10) / len(yellow_repeat_count)\n",
    "\n",
    "five_pct_pink = len(pink_list_5) / len(pink_repeat_count)\n",
    "ten_pct_pink = len(pink_list_10) / len(pink_repeat_count)"
   ]
  },
  {
   "cell_type": "code",
   "execution_count": 117,
   "id": "b60573b5",
   "metadata": {},
   "outputs": [
    {
     "data": {
      "text/plain": [
       "Text(0.5, 1.0, 'Percentage of Repeat Customers more than 5 and 10')"
      ]
     },
     "execution_count": 117,
     "metadata": {},
     "output_type": "execute_result"
    },
    {
     "data": {
      "image/png": "[encoded data removed]",
      "text/plain": [
       "<Figure size 432x288 with 1 Axes>"
      ]
     },
     "metadata": {},
     "output_type": "display_data"
    }
   ],
   "source": [
    "plot_data = pd.DataFrame({\"Percentage\": [five_pct_yellow,five_pct_pink,ten_pct_yellow, ten_pct_pink ]},\n",
    "                         index= [\">5 yellow\", \">5 pink\", \">10 yellow\", \">10 pink\"])\n",
    "plot_data.plot(kind=\"bar\")\n",
    "\n",
    "plt.title(\"Percentage of Repeat Customers more than 5 and 10\")"
   ]
  },
  {
   "cell_type": "code",
   "execution_count": 120,
   "id": "9a90261a",
   "metadata": {},
   "outputs": [
    {
     "data": {
      "text/plain": [
       "494        494\n",
       "1360      1360\n",
       "1803      1803\n",
       "636        636\n",
       "126        126\n",
       "         ...  \n",
       "38204    38204\n",
       "58806    58806\n",
       "36209    36209\n",
       "29186    29186\n",
       "57299    57299\n",
       "Name: id, Length: 15780, dtype: int64"
      ]
     },
     "execution_count": 120,
     "metadata": {},
     "output_type": "execute_result"
    }
   ],
   "source": [
    "yell_list_5"
   ]
  },
  {
   "cell_type": "code",
   "execution_count": 147,
   "id": "9d475c20",
   "metadata": {},
   "outputs": [],
   "source": [
    "y5_p = yell_list_5.isin(pink_list_5).value_counts()"
   ]
  },
  {
   "cell_type": "code",
   "execution_count": 141,
   "id": "346d4be7",
   "metadata": {},
   "outputs": [],
   "source": [
    "p5_y = pink_list_5.isin(yell_list_5).value_counts()\n"
   ]
  },
  {
   "cell_type": "code",
   "execution_count": 138,
   "id": "96482cc4",
   "metadata": {},
   "outputs": [],
   "source": [
    "y10_p = yell_list_10.isin(pink_list_5).value_counts()"
   ]
  },
  {
   "cell_type": "code",
   "execution_count": 140,
   "id": "80fc8af6",
   "metadata": {},
   "outputs": [],
   "source": [
    "p10_p = pink_list_10.isin(yell_list_5).value_counts()"
   ]
  },
  {
   "cell_type": "code",
   "execution_count": 145,
   "id": "2874d379",
   "metadata": {},
   "outputs": [],
   "source": [
    "df_cross = pd.concat([y5_p, p5_y, y10_p, p10_p], axis=1)"
   ]
  },
  {
   "cell_type": "code",
   "execution_count": 149,
   "id": "5f20c8cc",
   "metadata": {},
   "outputs": [],
   "source": [
    "df_cross.columns = ['Y5 in p', 'P5 in y', 'Y10 in p', 'P10 in y']"
   ]
  },
  {
   "cell_type": "code",
   "execution_count": 153,
   "id": "e4e12573",
   "metadata": {},
   "outputs": [],
   "source": [
    "#Transposing dataframe to make plotting easier\n",
    "dft = df_cross.T\n",
    "\n"
   ]
  },
  {
   "cell_type": "code",
   "execution_count": 155,
   "id": "f74d9319",
   "metadata": {},
   "outputs": [
    {
     "data": {
      "text/plain": [
       "<AxesSubplot:>"
      ]
     },
     "execution_count": 155,
     "metadata": {},
     "output_type": "execute_result"
    },
    {
     "data": {
      "image/png": "[encoded data removed]",
      "text/plain": [
       "<Figure size 432x288 with 1 Axes>"
      ]
     },
     "metadata": {},
     "output_type": "display_data"
    }
   ],
   "source": [
    "dft.plot(kind=\"bar\")\n"
   ]
  },
  {
   "cell_type": "markdown",
   "id": "e41cb030",
   "metadata": {},
   "source": [
    "The chart above shows the amount of users that used one cab company at least 5 or 10 times that also used the other cab company. From this chart we see that Yellow Cab as more loyal users, where as most of the frequent pink cab users also frequented yellow cab company. These users likely just got any cab available. Yellow cab retains more frequent users."
   ]
  },
  {
   "cell_type": "markdown",
   "id": "1d87f805",
   "metadata": {},
   "source": [
    "# Hypothesis\n",
    "\n",
    "### Hypothesis 1: Does the season affect amount of Cab users?\n",
    "    Yes! Colder seasons have significantly higher cab usage. This is likely a combination of users not wanting to walk in the cold, while increase of tourists for the holiday season increasing demand. \n",
    "    \n",
    "### Hypothesis 2: Does the city affect profit margins for Cab company?\n",
    "    Yes, the data shows that NYC Cab companies have an average of 80 profit per user while the rest of the country falls between 20 and 50 per user. Yellow Cab company has significantly more users in NYC which increases their profit margins considerably. \n",
    "    \n",
    "### Hypothesis 3: Do customer loyalty affect each Cab company?\n",
    "    Yes, the Yellow Cab Company has shown that its customers overwhelmingly stick with the Yellow Cab company, while the Pink Cab company most frequent users also frequent the Yellow Cab company. The profits per user for Yellow Cab company are also significatnly higher.\n",
    "    \n",
    "### Hypothesis 4: Does income of cab users affect the profit gained per trip?\n",
    "    No. The data shows us that profit per user remains consistent with each income bracket of its users.\n",
    "    \n",
    "### Hypothesis 5: How does distance travelled for a ride impact the profit per ride?\n",
    "    For both companies the average ride distance was similar, as was the tendency for profit to increase linearly with ride distance. However, the Yellow Cab company showed that it has significantly higher average profit per kilometer travelled than the Pink Cab Company. The Yellow Cab company utilizes distance travelled for profit much better than the Pink Cab Company"
   ]
  },
  {
   "cell_type": "markdown",
   "id": "4a61f78a",
   "metadata": {},
   "source": [
    "# Recommendation\n",
    "\n",
    "From the findings, XYZ should invest in the Yellow Cab Company for the following reasons\n",
    "\n",
    "    - Profit margins per user are much higher (160 vs 63) while simultaneously having a much higher # of users\n",
    "    - The Yellow Cab Company operates in significantly more Cites\n",
    "    - The Yellow Cab company has a higher user loyalty rate with nearly 70% of their frequent users (users with more than 5 trips) using only the Yellow Cab company, while the Pink Cab Company has a loyalty rate of roughly 10%\n",
    "    - The most profitable city per user is NYC and the Yellow Cab company services over 85,000 users in NYC vs the Pink Cab company only servicing 16,000 users."
   ]
  },
  {
   "cell_type": "code",
   "execution_count": null,
   "id": "8947db2b",
   "metadata": {},
   "outputs": [],
   "source": []
  }
 ],
 "metadata": {
  "kernelspec": {
   "display_name": "Python 3 (ipykernel)",
   "language": "python",
   "name": "python3"
  },
  "language_info": {
   "codemirror_mode": {
    "name": "ipython",
    "version": 3
   },
   "file_extension": ".py",
   "mimetype": "text/x-python",
   "name": "python",
   "nbconvert_exporter": "python",
   "pygments_lexer": "ipython3",
   "version": "3.9.12"
  }
 },
 "nbformat": 4,
 "nbformat_minor": 5
}
